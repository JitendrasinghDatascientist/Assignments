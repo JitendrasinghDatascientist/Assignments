{
 "cells": [
  {
   "cell_type": "code",
   "execution_count": null,
   "id": "a801ebf7",
   "metadata": {},
   "outputs": [],
   "source": [
    "# assignment-2:"
   ]
  },
  {
   "cell_type": "code",
   "execution_count": null,
   "id": "eb3ad60c",
   "metadata": {},
   "outputs": [],
   "source": [
    "# solution no 1 where i used a clear function to empty the list."
   ]
  },
  {
   "cell_type": "code",
   "execution_count": 1,
   "id": "19d60257",
   "metadata": {},
   "outputs": [
    {
     "name": "stdout",
     "output_type": "stream",
     "text": [
      "[]\n"
     ]
    }
   ],
   "source": [
    "number=[1,2,3,4,5,6,7,8,9,0]\n",
    "number.clear()\n",
    "print(number)"
   ]
  },
  {
   "cell_type": "code",
   "execution_count": null,
   "id": "44deb832",
   "metadata": {},
   "outputs": [],
   "source": [
    "# solution no 2"
   ]
  },
  {
   "cell_type": "code",
   "execution_count": 2,
   "id": "afc6a468",
   "metadata": {},
   "outputs": [
    {
     "name": "stdout",
     "output_type": "stream",
     "text": [
      "[1, 2, 3, 4, 5, 6, 7, 8, 9, 0, 1]\n"
     ]
    }
   ],
   "source": [
    "number=[1,2,3,4,5,6,7,8,9,0]\n",
    "number.append(1)\n",
    "print(number)"
   ]
  },
  {
   "cell_type": "code",
   "execution_count": null,
   "id": "66375104",
   "metadata": {},
   "outputs": [],
   "source": [
    "# solution no 3 "
   ]
  },
  {
   "cell_type": "code",
   "execution_count": 3,
   "id": "b9b50ec7",
   "metadata": {},
   "outputs": [
    {
     "name": "stdout",
     "output_type": "stream",
     "text": [
      "['jitendra', 'tanya', 'arpita', 'sakshi', 'divya', 'alok', 'bholu']\n"
     ]
    }
   ],
   "source": [
    "name=[\"jitendra\",\"tanya\",\"arpita\",\"sakshi\",\"dipshikha\",\"divya\",\"alok\",\"bholu\"]\n",
    "name.remove(\"dipshikha\")\n",
    "print(name)"
   ]
  },
  {
   "cell_type": "code",
   "execution_count": null,
   "id": "6e3fc374",
   "metadata": {},
   "outputs": [],
   "source": [
    "# solution no 4 "
   ]
  },
  {
   "cell_type": "code",
   "execution_count": 4,
   "id": "46152273",
   "metadata": {},
   "outputs": [
    {
     "name": "stdout",
     "output_type": "stream",
     "text": [
      "3\n"
     ]
    }
   ],
   "source": [
    "name=[\"jitendra\",\"tanya\",\"arpita\",\"sakshi\",\"dipshikha\",\"divya\",\"alok\",\"bholu\"]\n",
    "res=name.index(\"sakshi\")\n",
    "print(res)"
   ]
  },
  {
   "cell_type": "code",
   "execution_count": 5,
   "id": "d5a383cb",
   "metadata": {},
   "outputs": [
    {
     "name": "stdout",
     "output_type": "stream",
     "text": [
      "5\n"
     ]
    }
   ],
   "source": [
    "name=[\"jitendra\",\"tanya\",\"arpita\",\"sakshi\",\"dipshikha\",\"divya\",\"alok\",\"bholu\"]\n",
    "res=name.index(\"divya\")\n",
    "print(res)"
   ]
  },
  {
   "cell_type": "code",
   "execution_count": null,
   "id": "2fcfd408",
   "metadata": {},
   "outputs": [],
   "source": [
    "# solution no 5"
   ]
  },
  {
   "cell_type": "code",
   "execution_count": 6,
   "id": "b33651e4",
   "metadata": {},
   "outputs": [
    {
     "name": "stdout",
     "output_type": "stream",
     "text": [
      "8\n"
     ]
    }
   ],
   "source": [
    "name=[\"jitendra\",\"tanya\",\"arpita\",\"sakshi\",\"dipshikha\",\"divya\",\"alok\",\"bholu\"]\n",
    "res=len(name)\n",
    "print(res)"
   ]
  },
  {
   "cell_type": "code",
   "execution_count": 7,
   "id": "dc7cea7b",
   "metadata": {},
   "outputs": [
    {
     "name": "stdout",
     "output_type": "stream",
     "text": [
      "10\n"
     ]
    }
   ],
   "source": [
    "num=[1,2,3,4,5,6,7,8,9,0]\n",
    "res=len(num)\n",
    "print(res)"
   ]
  },
  {
   "cell_type": "code",
   "execution_count": null,
   "id": "79b114b0",
   "metadata": {},
   "outputs": [],
   "source": [
    "# solution no 6 "
   ]
  },
  {
   "cell_type": "code",
   "execution_count": 8,
   "id": "56483c1a",
   "metadata": {},
   "outputs": [
    {
     "name": "stdout",
     "output_type": "stream",
     "text": [
      "yes it is in there\n"
     ]
    }
   ],
   "source": [
    "name=[\"jitendra\",\"tanya\",\"arpita\",\"sakshi\",\"dipshikha\",\"divya\",\"alok\",\"bholu\"]\n",
    "if \"jitendra\" in name:\n",
    "    print(\"yes it is in there\")\n",
    "else:\n",
    "    print(\"not in there\")"
   ]
  },
  {
   "cell_type": "code",
   "execution_count": 9,
   "id": "8290bff0",
   "metadata": {},
   "outputs": [
    {
     "name": "stdout",
     "output_type": "stream",
     "text": [
      "not in there\n"
     ]
    }
   ],
   "source": [
    "name=[\"jitendra\",\"tanya\",\"arpita\",\"sakshi\",\"dipshikha\",\"divya\",\"alok\",\"bholu\"]\n",
    "if \"alex\" in name:\n",
    "    print(\"yes it is in there\")\n",
    "else:\n",
    "    print(\"not in there\")"
   ]
  },
  {
   "cell_type": "code",
   "execution_count": null,
   "id": "21481895",
   "metadata": {},
   "outputs": [],
   "source": [
    "# solution no 7 "
   ]
  },
  {
   "cell_type": "code",
   "execution_count": 10,
   "id": "b7c043dd",
   "metadata": {},
   "outputs": [
    {
     "name": "stdout",
     "output_type": "stream",
     "text": [
      "['jitendra', 'tanya', 'arpita', 'sakshi', 'dipshikha', 'divya', 'alok', 'bholu', 1, 2, 3, 4, 5, 6, 7, 8, 9, 0]\n"
     ]
    }
   ],
   "source": [
    "list1=[\"jitendra\",\"tanya\",\"arpita\",\"sakshi\",\"dipshikha\",\"divya\",\"alok\",\"bholu\"]\n",
    "list2=[1,2,3,4,5,6,7,8,9,0]\n",
    "print(list1+list2)"
   ]
  },
  {
   "cell_type": "code",
   "execution_count": null,
   "id": "3300dfd8",
   "metadata": {},
   "outputs": [],
   "source": [
    "# solution no 8"
   ]
  },
  {
   "cell_type": "code",
   "execution_count": 11,
   "id": "d1dca298",
   "metadata": {},
   "outputs": [
    {
     "name": "stdout",
     "output_type": "stream",
     "text": [
      "6\n"
     ]
    }
   ],
   "source": [
    "list1=[10,23,9,56,1000,67,34,8,6,78,45,34,87,72,98]\n",
    "\n",
    "print(min(list1))"
   ]
  },
  {
   "cell_type": "code",
   "execution_count": 12,
   "id": "cdab82fc",
   "metadata": {},
   "outputs": [
    {
     "name": "stdout",
     "output_type": "stream",
     "text": [
      "1000\n"
     ]
    }
   ],
   "source": [
    "list1=[10,23,9,56,1000,67,34,8,6,78,45,34,87,72,98]\n",
    "\n",
    "print(max(list1))"
   ]
  },
  {
   "cell_type": "code",
   "execution_count": null,
   "id": "4c8b3f50",
   "metadata": {},
   "outputs": [],
   "source": [
    "# solution no 9"
   ]
  },
  {
   "cell_type": "code",
   "execution_count": 13,
   "id": "1ab9bb38",
   "metadata": {},
   "outputs": [
    {
     "name": "stdout",
     "output_type": "stream",
     "text": [
      "2\n"
     ]
    }
   ],
   "source": [
    "list1=[10,23,9,56,1000,67,34,8,6,78,45,34,87,72,98,1000,34,45,56,6,7,8,9,56]\n",
    "res=list1.count(1000)\n",
    "print(res)"
   ]
  },
  {
   "cell_type": "code",
   "execution_count": null,
   "id": "552da238",
   "metadata": {},
   "outputs": [],
   "source": [
    "# solution no 10"
   ]
  },
  {
   "cell_type": "code",
   "execution_count": 14,
   "id": "cb9a324b",
   "metadata": {},
   "outputs": [
    {
     "name": "stdout",
     "output_type": "stream",
     "text": [
      "['bholu', 'alok', 'divya', 'dipshikha', 'sakshi', 'arpita', 'tanya', 'jitendra']\n"
     ]
    }
   ],
   "source": [
    "list1=[\"jitendra\",\"tanya\",\"arpita\",\"sakshi\",\"dipshikha\",\"divya\",\"alok\",\"bholu\"]\n",
    "list1.reverse()\n",
    "print(list1)"
   ]
  },
  {
   "cell_type": "code",
   "execution_count": null,
   "id": "5f8b3818",
   "metadata": {},
   "outputs": [],
   "source": [
    "# solution no 11"
   ]
  },
  {
   "cell_type": "code",
   "execution_count": 15,
   "id": "a5852dbb",
   "metadata": {},
   "outputs": [
    {
     "name": "stdout",
     "output_type": "stream",
     "text": [
      "[6, 6, 7, 8, 8, 9, 9, 10, 23, 34, 34, 34, 45, 45, 56, 56, 56, 67, 72, 78, 87, 98, 1000, 1000]\n"
     ]
    }
   ],
   "source": [
    "list1=[10,23,9,56,1000,67,34,8,6,78,45,34,87,72,98,1000,34,45,56,6,7,8,9,56]\n",
    "list1.sort()\n",
    "print(list1)"
   ]
  },
  {
   "cell_type": "code",
   "execution_count": null,
   "id": "41b19762",
   "metadata": {},
   "outputs": [],
   "source": [
    "# solution no 12 "
   ]
  },
  {
   "cell_type": "code",
   "execution_count": 16,
   "id": "ac702c77",
   "metadata": {},
   "outputs": [
    {
     "name": "stdout",
     "output_type": "stream",
     "text": [
      "[10, 23, 9, 56, 1000, 67, 34, 8, 6, 78, 45, 87, 72, 98, 7]\n"
     ]
    }
   ],
   "source": [
    "mylist = [10,23,9,56,1000,67,34,8,6,78,45,34,87,72,98,1000,34,45,56,6,7,8,9,56]\n",
    "mylist = list(dict.fromkeys(mylist))\n",
    "print(mylist)"
   ]
  },
  {
   "cell_type": "code",
   "execution_count": null,
   "id": "f6cf9dbf",
   "metadata": {},
   "outputs": [],
   "source": [
    "# solution no 13"
   ]
  },
  {
   "cell_type": "code",
   "execution_count": 17,
   "id": "cf5900b2",
   "metadata": {},
   "outputs": [],
   "source": [
    "mylist = [10,23,9,56,1000,67,34,8,6,78,45,34,87,72,98,1000,34,45,56,6,7,8,9,56]\n",
    "\n",
    "# doubt"
   ]
  },
  {
   "cell_type": "code",
   "execution_count": null,
   "id": "a4f0d70c",
   "metadata": {},
   "outputs": [],
   "source": [
    "# solution no 14 "
   ]
  },
  {
   "cell_type": "code",
   "execution_count": 18,
   "id": "82d3512c",
   "metadata": {},
   "outputs": [
    {
     "name": "stdout",
     "output_type": "stream",
     "text": [
      "enter the which multiply by list1: 3\n",
      "6\n",
      "9\n",
      "12\n",
      "15\n",
      "18\n",
      "21\n",
      "24\n",
      "27\n"
     ]
    }
   ],
   "source": [
    "list1=[2,3,4,5,6,7,8,9]\n",
    "num=int(input(\"enter the which multiply by list1: \"))\n",
    "for i in list1:\n",
    "    print(num*i)"
   ]
  },
  {
   "cell_type": "code",
   "execution_count": 19,
   "id": "970472b0",
   "metadata": {},
   "outputs": [
    {
     "name": "stdout",
     "output_type": "stream",
     "text": [
      "enter the which multiply by list1: 8\n",
      "16\n",
      "24\n",
      "32\n",
      "40\n",
      "48\n",
      "56\n",
      "64\n",
      "72\n"
     ]
    }
   ],
   "source": [
    "list1=[2,3,4,5,6,7,8,9]\n",
    "num=int(input(\"enter the which multiply by list1: \"))\n",
    "for i in list1:\n",
    "    print(num*i)"
   ]
  },
  {
   "cell_type": "code",
   "execution_count": null,
   "id": "ad549991",
   "metadata": {},
   "outputs": [],
   "source": [
    "# solution no 15"
   ]
  },
  {
   "cell_type": "code",
   "execution_count": null,
   "id": "5ee59358",
   "metadata": {},
   "outputs": [],
   "source": [
    "mylist= [\"jitendra\",\"tanya\",\"arpita\",\"sakshi\",\"dipshikha\",\"divya\",\"alok\",\"bholu\",\"jitendra\",\"arpita\",\"sakshi\",\"tanya\"]\n",
    "\n",
    "print(\"the unique value is\")\n",
    "unique(mylist)               # doubt"
   ]
  },
  {
   "cell_type": "code",
   "execution_count": null,
   "id": "09bf5dac",
   "metadata": {},
   "outputs": [],
   "source": [
    "# solution no 16"
   ]
  },
  {
   "cell_type": "code",
   "execution_count": 22,
   "id": "f7ef94cd",
   "metadata": {},
   "outputs": [
    {
     "name": "stdout",
     "output_type": "stream",
     "text": [
      "('alex', 'ram', 'sita')\n"
     ]
    }
   ],
   "source": [
    "name=(\"alex\",\"ram\",\"sita\")\n",
    "\n",
    "print(name)"
   ]
  },
  {
   "cell_type": "code",
   "execution_count": 24,
   "id": "92e32338",
   "metadata": {},
   "outputs": [
    {
     "name": "stdout",
     "output_type": "stream",
     "text": [
      "['rakesh', 'ram', 'rahul', 'pooja', 'rekha']\n"
     ]
    }
   ],
   "source": [
    "name=[\"sita\",\"ram\",\"rahul\",\"pooja\",\"rekha\"]\n",
    "name[0]=\"rakesh\"\n",
    "print(name)"
   ]
  },
  {
   "cell_type": "code",
   "execution_count": null,
   "id": "750cd9bc",
   "metadata": {},
   "outputs": [],
   "source": [
    "# solution no 17"
   ]
  },
  {
   "cell_type": "code",
   "execution_count": 25,
   "id": "84296069",
   "metadata": {},
   "outputs": [
    {
     "name": "stdout",
     "output_type": "stream",
     "text": [
      "3\n"
     ]
    }
   ],
   "source": [
    "list1=(1,2,3,4,5,6,7,8,9,0)\n",
    "print(list1[2])"
   ]
  },
  {
   "cell_type": "code",
   "execution_count": 26,
   "id": "98677452",
   "metadata": {},
   "outputs": [
    {
     "name": "stdout",
     "output_type": "stream",
     "text": [
      "rahul\n"
     ]
    }
   ],
   "source": [
    "mylist=(\"sita\",\"ram\",\"rahul\",\"pooja\",\"rekha\")\n",
    "print(mylist[2])"
   ]
  },
  {
   "cell_type": "code",
   "execution_count": null,
   "id": "a365d151",
   "metadata": {},
   "outputs": [],
   "source": [
    "# solution no 18"
   ]
  },
  {
   "cell_type": "code",
   "execution_count": 27,
   "id": "8b2dcf23",
   "metadata": {},
   "outputs": [
    {
     "name": "stdout",
     "output_type": "stream",
     "text": [
      "present\n"
     ]
    }
   ],
   "source": [
    "Tuple=(\"sita\",\"ram\",\"rahul\",\"pooja\",\"rekha\")\n",
    "if \"ram\" in Tuple:\n",
    "    print(\"present\")\n",
    "else:\n",
    "    print(\"not present\")"
   ]
  },
  {
   "cell_type": "code",
   "execution_count": 28,
   "id": "616b9f1f",
   "metadata": {},
   "outputs": [
    {
     "name": "stdout",
     "output_type": "stream",
     "text": [
      "not present\n"
     ]
    }
   ],
   "source": [
    "Tuple=(\"sita\",\"ram\",\"rahul\",\"pooja\",\"rekha\")\n",
    "if \"alex\" in Tuple:\n",
    "    print(\"present\")\n",
    "else:\n",
    "    print(\"not present\")"
   ]
  },
  {
   "cell_type": "code",
   "execution_count": null,
   "id": "7ba2874d",
   "metadata": {},
   "outputs": [],
   "source": [
    "# solution no 19"
   ]
  },
  {
   "cell_type": "code",
   "execution_count": 29,
   "id": "a9432e1d",
   "metadata": {},
   "outputs": [
    {
     "name": "stdout",
     "output_type": "stream",
     "text": [
      "['sita', 'ram', 'rahul', 'pooja', 'rekha']\n",
      "<class 'list'>\n"
     ]
    }
   ],
   "source": [
    "Tuples = (\"sita\",\"ram\",\"rahul\",\"pooja\",\"rekha\")\n",
    "mylist = list(Tuples)\n",
    "print(mylist)\n",
    "print(type(mylist))"
   ]
  },
  {
   "cell_type": "code",
   "execution_count": 30,
   "id": "f803124e",
   "metadata": {},
   "outputs": [
    {
     "name": "stdout",
     "output_type": "stream",
     "text": [
      "[1, 2, 3, 4, 5, 6, 7, 8, 9, 0]\n"
     ]
    }
   ],
   "source": [
    "tuples=(1,2,3,4,5,6,7,8,9,0)\n",
    "mylist=list(tuples)\n",
    "print(mylist)"
   ]
  },
  {
   "cell_type": "code",
   "execution_count": null,
   "id": "b36c55b8",
   "metadata": {},
   "outputs": [],
   "source": [
    "# solution no 20"
   ]
  },
  {
   "cell_type": "code",
   "execution_count": 31,
   "id": "0434dc33",
   "metadata": {},
   "outputs": [
    {
     "name": "stdout",
     "output_type": "stream",
     "text": [
      "(1, 2, 3, 4, 5, 6, 7, 8, 9, 0, 0, 9, 8, 7, 6, 5, 4, 3, 2, 1)\n"
     ]
    }
   ],
   "source": [
    "tuple1=(1,2,3,4,5,6,7,8,9,0)\n",
    "tuple2=(0,9,8,7,6,5,4,3,2,1)\n",
    "print(tuple1+tuple2)"
   ]
  },
  {
   "cell_type": "code",
   "execution_count": null,
   "id": "aa67d366",
   "metadata": {},
   "outputs": [],
   "source": [
    "# solution no 21"
   ]
  },
  {
   "cell_type": "code",
   "execution_count": 32,
   "id": "26ae18fd",
   "metadata": {},
   "outputs": [
    {
     "name": "stdout",
     "output_type": "stream",
     "text": [
      "2\n"
     ]
    }
   ],
   "source": [
    "name=(\"sita\",\"ram\",\"rahul\",\"pooja\",\"rekha\")\n",
    "res=name.index(\"rahul\")\n",
    "print(res)"
   ]
  },
  {
   "cell_type": "code",
   "execution_count": null,
   "id": "d2e729ab",
   "metadata": {},
   "outputs": [],
   "source": [
    "# solution no 22"
   ]
  },
  {
   "cell_type": "code",
   "execution_count": 33,
   "id": "f367be91",
   "metadata": {},
   "outputs": [
    {
     "name": "stdout",
     "output_type": "stream",
     "text": [
      "('ram', 'sita', 'raaju')\n"
     ]
    }
   ],
   "source": [
    "a=(\"ram\",\"sita\",\"raaju\")\n",
    "b=a\n",
    "print(b)"
   ]
  },
  {
   "cell_type": "code",
   "execution_count": null,
   "id": "31c64842",
   "metadata": {},
   "outputs": [],
   "source": [
    "# solution no 23"
   ]
  },
  {
   "cell_type": "code",
   "execution_count": 34,
   "id": "c9833105",
   "metadata": {},
   "outputs": [
    {
     "name": "stdout",
     "output_type": "stream",
     "text": [
      "('sita', 'ram', 'rahul', 'pooja', 'rekha')\n"
     ]
    }
   ],
   "source": [
    "list1=[\"sita\",\"ram\",\"rahul\",\"pooja\",\"rekha\"]\n",
    "res=tuple(list1)\n",
    "print(res)"
   ]
  },
  {
   "cell_type": "code",
   "execution_count": 35,
   "id": "2609a5d1",
   "metadata": {},
   "outputs": [
    {
     "name": "stdout",
     "output_type": "stream",
     "text": [
      "(1, 2, 3, 4, 5, 6, 7, 8, 9, 0)\n"
     ]
    }
   ],
   "source": [
    "list1=[1,2,3,4,5,6,7,8,9,0]\n",
    "res=tuple(list1)\n",
    "print(res)"
   ]
  },
  {
   "cell_type": "code",
   "execution_count": null,
   "id": "72b7b8be",
   "metadata": {},
   "outputs": [],
   "source": [
    "# solution no 24"
   ]
  },
  {
   "cell_type": "code",
   "execution_count": 36,
   "id": "86ae963d",
   "metadata": {},
   "outputs": [
    {
     "name": "stdout",
     "output_type": "stream",
     "text": [
      "('jitendra', 'alex', (1, 2, 3, 4, 5, 6))\n"
     ]
    }
   ],
   "source": [
    "Tuple=(\"jitendra\",\"alex\",(1,2,3,4,5,6),)\n",
    "print(Tuple)"
   ]
  },
  {
   "cell_type": "code",
   "execution_count": null,
   "id": "7a94142b",
   "metadata": {},
   "outputs": [],
   "source": [
    "# solution no 25"
   ]
  },
  {
   "cell_type": "code",
   "execution_count": 37,
   "id": "d7a928c4",
   "metadata": {},
   "outputs": [
    {
     "name": "stdout",
     "output_type": "stream",
     "text": [
      "enter the value of A: 23\n",
      "enter the value of B: 45\n",
      "value of A=  23 \n",
      " value of B=  45\n",
      "value of A=  45 \n",
      " value of B=  23\n"
     ]
    }
   ],
   "source": [
    "a=int(input(\"enter the value of A: \"))   # doubt\n",
    "b=int(input(\"enter the value of B: \"))\n",
    "print(\"value of A= \",a, \"\\n value of B= \", b) \n",
    "(a,b)=(b,a)\n",
    "print(\"value of A= \",a, \"\\n value of B= \", b)"
   ]
  },
  {
   "cell_type": "code",
   "execution_count": 38,
   "id": "f44c0fb8",
   "metadata": {},
   "outputs": [
    {
     "name": "stdout",
     "output_type": "stream",
     "text": [
      "Enter value of A: 67\n",
      "Enter value of B: 87\n",
      "Value of A =  67 \n",
      " Value of B =  87\n",
      "Value of A =  87 \n",
      " Value of B =  67\n"
     ]
    }
   ],
   "source": [
    "a = int(input(\"Enter value of A: \"))\n",
    "b = int(input(\"Enter value of B: \"))\n",
    "print(\"Value of A = \", a, \"\\n Value of B = \", b)\n",
    "(a, b) = (b, a)\n",
    "print(\"Value of A = \", a, \"\\n Value of B = \", b)"
   ]
  },
  {
   "cell_type": "code",
   "execution_count": null,
   "id": "60940b08",
   "metadata": {},
   "outputs": [],
   "source": [
    "# solution no 26"
   ]
  },
  {
   "cell_type": "code",
   "execution_count": 39,
   "id": "eb4cf35a",
   "metadata": {},
   "outputs": [
    {
     "name": "stdout",
     "output_type": "stream",
     "text": [
      "{}\n"
     ]
    }
   ],
   "source": [
    "marks= {\"alex\":20,\"pooja\":30,\"shivendra\":40}\n",
    "del marks[\"alex\"]\n",
    "del marks[\"pooja\"]\n",
    "del marks[\"shivendra\"]\n",
    "print(marks)"
   ]
  },
  {
   "cell_type": "code",
   "execution_count": 40,
   "id": "db5788b4",
   "metadata": {},
   "outputs": [
    {
     "name": "stdout",
     "output_type": "stream",
     "text": [
      "{}\n"
     ]
    }
   ],
   "source": [
    "marks={\"jitendra\":90,\"tanya\":79,\"arpita\":85}\n",
    "del marks[\"jitendra\"]\n",
    "del marks[\"tanya\"]\n",
    "del marks[\"arpita\"]\n",
    "print(marks)"
   ]
  },
  {
   "cell_type": "code",
   "execution_count": null,
   "id": "45b31682",
   "metadata": {},
   "outputs": [],
   "source": [
    "# solution no 27"
   ]
  },
  {
   "cell_type": "code",
   "execution_count": 41,
   "id": "5311baf4",
   "metadata": {},
   "outputs": [
    {
     "name": "stdout",
     "output_type": "stream",
     "text": [
      "{'jitendra': 90, 'tanya': 79, 'arpita': 85}\n"
     ]
    }
   ],
   "source": [
    "marks={\"jitendra\":90,\"tanya\":79,\"arpita\":85}\n",
    "print(marks)"
   ]
  },
  {
   "cell_type": "code",
   "execution_count": 42,
   "id": "6c89be93",
   "metadata": {},
   "outputs": [
    {
     "name": "stdout",
     "output_type": "stream",
     "text": [
      "{'alex': 90, 'pappu': 85, 'sona': 45}\n"
     ]
    }
   ],
   "source": [
    "name={\"alex\":90,\"pappu\":85,\"sona\":45}\n",
    "print(name)"
   ]
  },
  {
   "cell_type": "code",
   "execution_count": null,
   "id": "dc2df263",
   "metadata": {},
   "outputs": [],
   "source": [
    "# solution no 28"
   ]
  },
  {
   "cell_type": "code",
   "execution_count": 43,
   "id": "44f33ee3",
   "metadata": {},
   "outputs": [
    {
     "name": "stdout",
     "output_type": "stream",
     "text": [
      "85\n"
     ]
    }
   ],
   "source": [
    "name={\"alex\":90,\"pappu\":85,\"sona\":45}\n",
    "print(name[\"pappu\"])"
   ]
  },
  {
   "cell_type": "code",
   "execution_count": 44,
   "id": "c67cf715",
   "metadata": {},
   "outputs": [
    {
     "name": "stdout",
     "output_type": "stream",
     "text": [
      "90\n"
     ]
    }
   ],
   "source": [
    "marks={\"jitendra\":90,\"tanya\":79,\"arpita\":85}\n",
    "print(marks[\"jitendra\"])"
   ]
  },
  {
   "cell_type": "code",
   "execution_count": null,
   "id": "6f55db74",
   "metadata": {},
   "outputs": [],
   "source": [
    "# solution no 29"
   ]
  },
  {
   "cell_type": "code",
   "execution_count": 45,
   "id": "e8705516",
   "metadata": {},
   "outputs": [
    {
     "name": "stdout",
     "output_type": "stream",
     "text": [
      "exists\n"
     ]
    }
   ],
   "source": [
    "marks={\"jitendra\":90,\"tanya\":79,\"arpita\":85}\n",
    "if \"tanya\" in marks:\n",
    "    print(\"exists\")\n",
    "else:\n",
    "    print(\"not exists\")"
   ]
  },
  {
   "cell_type": "code",
   "execution_count": null,
   "id": "b7a86838",
   "metadata": {},
   "outputs": [],
   "source": [
    "# solution no 30"
   ]
  },
  {
   "cell_type": "code",
   "execution_count": 46,
   "id": "92f28b30",
   "metadata": {},
   "outputs": [
    {
     "name": "stdout",
     "output_type": "stream",
     "text": [
      "{}\n"
     ]
    }
   ],
   "source": [
    "marks={\"jitendra\":20, \"tanya\":30,\"pappu\":40}\n",
    "del marks[\"jitendra\"]\n",
    "del marks[\"tanya\"]\n",
    "del marks[\"pappu\"]\n",
    "print(marks)"
   ]
  },
  {
   "cell_type": "code",
   "execution_count": null,
   "id": "d33d438f",
   "metadata": {},
   "outputs": [],
   "source": [
    "# solution no 31"
   ]
  },
  {
   "cell_type": "code",
   "execution_count": 47,
   "id": "30fa97e1",
   "metadata": {},
   "outputs": [
    {
     "name": "stdout",
     "output_type": "stream",
     "text": [
      "dict_keys(['jitendra', 'tanya', 'pappu'])\n"
     ]
    }
   ],
   "source": [
    "marks={\"jitendra\":20, \"tanya\":30,\"pappu\":40}\n",
    "\n",
    "print(marks.keys())"
   ]
  },
  {
   "cell_type": "code",
   "execution_count": null,
   "id": "d3b52694",
   "metadata": {},
   "outputs": [],
   "source": [
    "# solution no 32"
   ]
  },
  {
   "cell_type": "code",
   "execution_count": 48,
   "id": "3ab23299",
   "metadata": {},
   "outputs": [
    {
     "name": "stdout",
     "output_type": "stream",
     "text": [
      "dict_values([20, 30, 40])\n"
     ]
    }
   ],
   "source": [
    "marks={\"jitendra\":20, \"tanya\":30,\"pappu\":40}\n",
    "\n",
    "print(marks.values())"
   ]
  },
  {
   "cell_type": "code",
   "execution_count": null,
   "id": "23fc7958",
   "metadata": {},
   "outputs": [],
   "source": [
    "# solution no 33"
   ]
  },
  {
   "cell_type": "code",
   "execution_count": 49,
   "id": "42e76130",
   "metadata": {},
   "outputs": [
    {
     "name": "stdout",
     "output_type": "stream",
     "text": [
      "jitendra\n",
      "tanya\n",
      "pappu\n"
     ]
    }
   ],
   "source": [
    "marks={\"jitendra\":20, \"tanya\":30,\"pappu\":40} # doubt\n",
    "for keys in marks:\n",
    "    print(keys)"
   ]
  },
  {
   "cell_type": "code",
   "execution_count": null,
   "id": "b595408d",
   "metadata": {},
   "outputs": [],
   "source": [
    "# solution no 34"
   ]
  },
  {
   "cell_type": "code",
   "execution_count": 50,
   "id": "a7e6adb6",
   "metadata": {},
   "outputs": [
    {
     "name": "stdout",
     "output_type": "stream",
     "text": [
      "jitendra\n",
      "tanya\n",
      "pappu\n"
     ]
    }
   ],
   "source": [
    "marks={\"jitendra\":20, \"tanya\":30,\"pappu\":40}\n",
    "for values in marks:                 # doubt\n",
    "    print(values)"
   ]
  },
  {
   "cell_type": "code",
   "execution_count": null,
   "id": "d3bfef27",
   "metadata": {},
   "outputs": [],
   "source": [
    "# solution no 35"
   ]
  },
  {
   "cell_type": "code",
   "execution_count": 51,
   "id": "34775464",
   "metadata": {},
   "outputs": [
    {
     "name": "stdout",
     "output_type": "stream",
     "text": [
      "exists\n"
     ]
    }
   ],
   "source": [
    "name={\"a\":2, \"b\":4, \"c\":5, \"d\":7}\n",
    "if \"a\" in name:\n",
    "    print(\"exists\")\n",
    "else:\n",
    "    print(\"not exists\")"
   ]
  },
  {
   "cell_type": "code",
   "execution_count": 52,
   "id": "4cb98a2d",
   "metadata": {},
   "outputs": [
    {
     "name": "stdout",
     "output_type": "stream",
     "text": [
      "not exists\n"
     ]
    }
   ],
   "source": [
    "name={\"a\":2, \"b\":4, \"c\":5, \"d\":7}\n",
    "if \"e\" in name:\n",
    "    print(\"exists\")\n",
    "else:\n",
    "    print(\"not exists\")"
   ]
  },
  {
   "cell_type": "code",
   "execution_count": null,
   "id": "ceb43818",
   "metadata": {},
   "outputs": [],
   "source": [
    "# solution no 36"
   ]
  },
  {
   "cell_type": "code",
   "execution_count": 53,
   "id": "4a1d19c7",
   "metadata": {},
   "outputs": [
    {
     "name": "stdout",
     "output_type": "stream",
     "text": [
      "{'jitendra': 20, 'tanya': 30, 'pappu': 40, 'a': 2, 'b': 4, 'c': 5, 'd': 7}\n"
     ]
    }
   ],
   "source": [
    "marks1= {\"jitendra\":20, \"tanya\":30,\"pappu\":40}\n",
    "marks2= {\"a\":2, \"b\":4, \"c\":5, \"d\":7}\n",
    "\n",
    "print(marks1 | marks2)"
   ]
  },
  {
   "cell_type": "code",
   "execution_count": 54,
   "id": "12bb36f4",
   "metadata": {},
   "outputs": [
    {
     "name": "stdout",
     "output_type": "stream",
     "text": [
      "{'a': 10, 'b': 8, 'd': 6, 'c': 4}\n"
     ]
    }
   ],
   "source": [
    "dict1 = {'a': 10, 'b': 8}\n",
    "dict2 = {'d': 6, 'c': 4}\n",
    "\n",
    "print(dict1 | dict2)"
   ]
  },
  {
   "cell_type": "code",
   "execution_count": null,
   "id": "7e7b1d58",
   "metadata": {},
   "outputs": [],
   "source": [
    "# solution no 37"
   ]
  },
  {
   "cell_type": "code",
   "execution_count": 55,
   "id": "6d249515",
   "metadata": {},
   "outputs": [
    {
     "name": "stdout",
     "output_type": "stream",
     "text": [
      "{}\n"
     ]
    }
   ],
   "source": [
    "marks1= {\"jitendra\":20, \"tanya\":30,\"pappu\":40}\n",
    "marks1.clear()\n",
    "print(marks1)"
   ]
  },
  {
   "cell_type": "code",
   "execution_count": null,
   "id": "b1e366ac",
   "metadata": {},
   "outputs": [],
   "source": [
    "# solution no 38"
   ]
  },
  {
   "cell_type": "code",
   "execution_count": 56,
   "id": "c363c45b",
   "metadata": {},
   "outputs": [
    {
     "name": "stdout",
     "output_type": "stream",
     "text": [
      "3\n"
     ]
    }
   ],
   "source": [
    "marks= {\"jitendra\":20, \"tanya\":30,\"pappu\":40}\n",
    "res=len(marks)\n",
    "print(res)"
   ]
  },
  {
   "cell_type": "code",
   "execution_count": null,
   "id": "9bd023b9",
   "metadata": {},
   "outputs": [],
   "source": [
    "# solution no 39"
   ]
  },
  {
   "cell_type": "code",
   "execution_count": 57,
   "id": "dd08675b",
   "metadata": {},
   "outputs": [
    {
     "name": "stdout",
     "output_type": "stream",
     "text": [
      "{1: 1, 2: 4, 3: 9, 4: 16, 5: 25, 6: 36, 7: 49, 8: 64, 9: 81, 10: 100, 11: 121, 12: 144, 13: 169, 14: 196, 15: 225}\n"
     ]
    }
   ],
   "source": [
    "d=dict()\n",
    "for x in range (1,16):\n",
    "    d[x]=x**2\n",
    "print(d)"
   ]
  },
  {
   "cell_type": "code",
   "execution_count": null,
   "id": "c9adc681",
   "metadata": {},
   "outputs": [],
   "source": [
    "# solution no 40"
   ]
  },
  {
   "cell_type": "code",
   "execution_count": 58,
   "id": "664b6799",
   "metadata": {},
   "outputs": [
    {
     "name": "stdout",
     "output_type": "stream",
     "text": [
      "set()\n"
     ]
    }
   ],
   "source": [
    "name=set(())\n",
    "print(name)"
   ]
  },
  {
   "cell_type": "code",
   "execution_count": null,
   "id": "1f24f678",
   "metadata": {},
   "outputs": [],
   "source": [
    "# solution no 41"
   ]
  },
  {
   "cell_type": "code",
   "execution_count": 59,
   "id": "736cfe4d",
   "metadata": {},
   "outputs": [
    {
     "name": "stdout",
     "output_type": "stream",
     "text": [
      "{'pawan', 'aryan', 'alex', 'rohan', 'jitendra'}\n"
     ]
    }
   ],
   "source": [
    "nameset={\"aryan\",\"rohan\",\"alex\",\"pawan\"}\n",
    "nameset.add(\"jitendra\")\n",
    "print(nameset)"
   ]
  },
  {
   "cell_type": "code",
   "execution_count": null,
   "id": "0a92e180",
   "metadata": {},
   "outputs": [],
   "source": [
    "# solution no 42"
   ]
  },
  {
   "cell_type": "code",
   "execution_count": 60,
   "id": "09619902",
   "metadata": {},
   "outputs": [
    {
     "name": "stdout",
     "output_type": "stream",
     "text": [
      "{'rohan', 'pawan', 'aryan', 'alex'}\n"
     ]
    }
   ],
   "source": [
    "nameset={\"aryan\",\"rohan\",\"alex\",\"pawan\",\"jitendra\"}\n",
    "nameset.remove(\"jitendra\")\n",
    "print(nameset)"
   ]
  },
  {
   "cell_type": "code",
   "execution_count": null,
   "id": "7ddadf58",
   "metadata": {},
   "outputs": [],
   "source": [
    "# solution no 43"
   ]
  },
  {
   "cell_type": "code",
   "execution_count": 61,
   "id": "f4fc9fcc",
   "metadata": {},
   "outputs": [
    {
     "name": "stdout",
     "output_type": "stream",
     "text": [
      "exists\n"
     ]
    }
   ],
   "source": [
    "nameset={\"aryan\",\"rohan\",\"alex\",\"pawan\",\"jitendra\"}\n",
    "if \"jitendra\" in nameset:\n",
    "    print(\"exists\")\n",
    "else:\n",
    "    print(\"not exists\")"
   ]
  },
  {
   "cell_type": "code",
   "execution_count": 62,
   "id": "ee848df9",
   "metadata": {},
   "outputs": [
    {
     "name": "stdout",
     "output_type": "stream",
     "text": [
      "not exists\n"
     ]
    }
   ],
   "source": [
    "nameset={\"aryan\",\"rohan\",\"alex\",\"pawan\",\"jitendra\"}\n",
    "if \"raaju\" in nameset:\n",
    "    print(\"exists\")\n",
    "else:\n",
    "    print(\"not exists\")"
   ]
  },
  {
   "cell_type": "code",
   "execution_count": null,
   "id": "cd3fe8b0",
   "metadata": {},
   "outputs": [],
   "source": [
    "# solution no 44"
   ]
  },
  {
   "cell_type": "code",
   "execution_count": 63,
   "id": "60b801df",
   "metadata": {},
   "outputs": [
    {
     "name": "stdout",
     "output_type": "stream",
     "text": [
      "set()\n"
     ]
    }
   ],
   "source": [
    "x = {\"aryan\",\"rohan\",\"alex\",\"pawan\",\"jitendra\"}\n",
    "y = {\"google\",\"microsoft\",\"apple\"}\n",
    "z = x.intersection(y)\n",
    "print(z)"
   ]
  },
  {
   "cell_type": "code",
   "execution_count": 64,
   "id": "cb7736c7",
   "metadata": {},
   "outputs": [
    {
     "name": "stdout",
     "output_type": "stream",
     "text": [
      "{'apple'}\n"
     ]
    }
   ],
   "source": [
    "x = {\"apple\", \"banana\", \"cherry\"}\n",
    "y = {\"google\", \"microsoft\", \"apple\"}\n",
    "\n",
    "z = x.intersection(y) \n",
    "\n",
    "print(z)"
   ]
  },
  {
   "cell_type": "code",
   "execution_count": null,
   "id": "7dadaa93",
   "metadata": {},
   "outputs": [],
   "source": [
    "# solution no 45"
   ]
  },
  {
   "cell_type": "code",
   "execution_count": 65,
   "id": "310c5aac",
   "metadata": {},
   "outputs": [
    {
     "name": "stdout",
     "output_type": "stream",
     "text": [
      "{'apple', 'cherry', 'banana', 'microsoft', 'google'}\n"
     ]
    }
   ],
   "source": [
    "x = {\"apple\", \"banana\", \"cherry\"}\n",
    "y = {\"google\", \"microsoft\", \"apple\"}\n",
    "\n",
    "z = x.union(y) \n",
    "\n",
    "print(z)"
   ]
  },
  {
   "cell_type": "code",
   "execution_count": null,
   "id": "c7b40492",
   "metadata": {},
   "outputs": [],
   "source": [
    "# solution no 46"
   ]
  },
  {
   "cell_type": "code",
   "execution_count": 66,
   "id": "ba84ec34",
   "metadata": {},
   "outputs": [
    {
     "name": "stdout",
     "output_type": "stream",
     "text": [
      "{'cherry', 'banana'}\n"
     ]
    }
   ],
   "source": [
    "x = {\"apple\", \"banana\", \"cherry\"}\n",
    "y = {\"google\", \"microsoft\", \"apple\"}\n",
    "\n",
    "z = x.difference(y) \n",
    "\n",
    "print(z)"
   ]
  },
  {
   "cell_type": "code",
   "execution_count": null,
   "id": "d16c27cc",
   "metadata": {},
   "outputs": [],
   "source": [
    "# solution no 47"
   ]
  },
  {
   "cell_type": "code",
   "execution_count": 67,
   "id": "04974e68",
   "metadata": {},
   "outputs": [
    {
     "name": "stdout",
     "output_type": "stream",
     "text": [
      "True\n"
     ]
    }
   ],
   "source": [
    "A={1,2,3}\n",
    "B={1,2,3,4,5}\n",
    "\n",
    "print(A.issubset(B))"
   ]
  },
  {
   "cell_type": "code",
   "execution_count": 68,
   "id": "83ac3a30",
   "metadata": {},
   "outputs": [
    {
     "name": "stdout",
     "output_type": "stream",
     "text": [
      "False\n"
     ]
    }
   ],
   "source": [
    "A={1,2,3,4,5,6}\n",
    "B={1,2,3}\n",
    "\n",
    "print(A.issubset(B))"
   ]
  },
  {
   "cell_type": "code",
   "execution_count": null,
   "id": "c247be2b",
   "metadata": {},
   "outputs": [],
   "source": [
    "# solution no 48"
   ]
  },
  {
   "cell_type": "code",
   "execution_count": 69,
   "id": "1baf6117",
   "metadata": {},
   "outputs": [
    {
     "name": "stdout",
     "output_type": "stream",
     "text": [
      "set()\n"
     ]
    }
   ],
   "source": [
    "nameset={\"aryan\",\"rohan\",\"alex\",\"pawan\",\"jitendra\"}\n",
    "nameset.clear()\n",
    "\n",
    "print(nameset)"
   ]
  },
  {
   "cell_type": "code",
   "execution_count": null,
   "id": "0f4c8958",
   "metadata": {},
   "outputs": [],
   "source": [
    "# solution no 49"
   ]
  },
  {
   "cell_type": "code",
   "execution_count": 70,
   "id": "bd7da1c2",
   "metadata": {},
   "outputs": [
    {
     "name": "stdout",
     "output_type": "stream",
     "text": [
      "{0, 1, 2, 3, 4, 5, 6, 7, 8, 9}\n"
     ]
    }
   ],
   "source": [
    "name=[1,2,3,4,5,6,7,8,9,0]\n",
    "res=set(name)\n",
    "print(res)"
   ]
  },
  {
   "cell_type": "code",
   "execution_count": 71,
   "id": "c6c34526",
   "metadata": {},
   "outputs": [
    {
     "name": "stdout",
     "output_type": "stream",
     "text": [
      "{0, 1, 2, 3, 4, 5, 6, 7, 8, 9}\n"
     ]
    }
   ],
   "source": [
    "list1=[1,2,3,4,5,6,7,8,9,0]\n",
    "res=set(list1)\n",
    "print(res)"
   ]
  },
  {
   "cell_type": "code",
   "execution_count": null,
   "id": "93aa2ef1",
   "metadata": {},
   "outputs": [],
   "source": [
    "# solution no 50"
   ]
  },
  {
   "cell_type": "code",
   "execution_count": 72,
   "id": "a53c458f",
   "metadata": {},
   "outputs": [
    {
     "name": "stdout",
     "output_type": "stream",
     "text": [
      "[0, 1, 2, 3, 4, 5, 6, 7, 8, 9]\n"
     ]
    }
   ],
   "source": [
    "name={1,2,3,4,5,6,7,8,9,0}\n",
    "res=list(name)\n",
    "print(res)"
   ]
  },
  {
   "cell_type": "code",
   "execution_count": 73,
   "id": "ca8242a5",
   "metadata": {},
   "outputs": [
    {
     "name": "stdout",
     "output_type": "stream",
     "text": [
      "['rohan', 'jitendra', 'pawan', 'aryan', 'alex']\n"
     ]
    }
   ],
   "source": [
    "name={\"aryan\",\"rohan\",\"alex\",\"pawan\",\"jitendra\"}\n",
    "res=list(name)\n",
    "print(res)"
   ]
  },
  {
   "cell_type": "code",
   "execution_count": null,
   "id": "0564b393",
   "metadata": {},
   "outputs": [],
   "source": [
    "# solution no 51"
   ]
  },
  {
   "cell_type": "code",
   "execution_count": 74,
   "id": "13df904a",
   "metadata": {},
   "outputs": [
    {
     "name": "stdout",
     "output_type": "stream",
     "text": [
      "['pawan']\n"
     ]
    }
   ],
   "source": [
    "name1={\"aryan\",\"rohan\",\"alex\",\"pawan\",\"jitendra\"}\n",
    "name2={\"tanya\",\"pooja\",\"aysuhi\",\"sohan\",\"pawan\"}\n",
    "common_element=list(set(name1).intersection(name2))\n",
    "print(common_element)"
   ]
  },
  {
   "cell_type": "code",
   "execution_count": null,
   "id": "591c142a",
   "metadata": {},
   "outputs": [],
   "source": [
    "# solution no 52"
   ]
  },
  {
   "cell_type": "code",
   "execution_count": 75,
   "id": "54129196",
   "metadata": {},
   "outputs": [
    {
     "name": "stdout",
     "output_type": "stream",
     "text": [
      "{1, 2, 3, 4, 5, 90, 10}\n"
     ]
    }
   ],
   "source": [
    "myset1={1,2,3,4,5}\n",
    "myset=myset1 |{10,90}\n",
    "print(myset)"
   ]
  },
  {
   "cell_type": "code",
   "execution_count": null,
   "id": "67efe7f9",
   "metadata": {},
   "outputs": [],
   "source": [
    "# solution no 53"
   ]
  },
  {
   "cell_type": "code",
   "execution_count": 76,
   "id": "9378e1d4",
   "metadata": {},
   "outputs": [
    {
     "name": "stdout",
     "output_type": "stream",
     "text": [
      "not exists\n",
      "{'rohan', 'pawan', 'aryan', 'alex'}\n"
     ]
    }
   ],
   "source": [
    "name1={\"aryan\",\"rohan\",\"alex\",\"pawan\",\"jitendra\"}\n",
    "name1.remove(\"jitendra\")\n",
    "if \"jitendra\" in name1:\n",
    "    print(\"exists\")\n",
    "else:    \n",
    "\n",
    "    print(\"not exists\")\n",
    "\n",
    "print(name1)"
   ]
  },
  {
   "cell_type": "code",
   "execution_count": null,
   "id": "5204add1",
   "metadata": {},
   "outputs": [],
   "source": [
    "# solution no 54"
   ]
  },
  {
   "cell_type": "code",
   "execution_count": 77,
   "id": "00a0cbb2",
   "metadata": {},
   "outputs": [
    {
     "name": "stdout",
     "output_type": "stream",
     "text": [
      "True\n"
     ]
    }
   ],
   "source": [
    "s1={1,2,3,4,5}\n",
    "s2={6,7,8,9,0}\n",
    "print(s1.isdisjoint(s2))"
   ]
  },
  {
   "cell_type": "code",
   "execution_count": 78,
   "id": "d76b3f5b",
   "metadata": {},
   "outputs": [
    {
     "name": "stdout",
     "output_type": "stream",
     "text": [
      "True\n"
     ]
    }
   ],
   "source": [
    "\n",
    "s1 = {1, 2, 3}\n",
    "s2 = {4, 5, 6}\n",
    "print(s1.isdisjoint(s2))"
   ]
  },
  {
   "cell_type": "code",
   "execution_count": null,
   "id": "e927d3fb",
   "metadata": {},
   "outputs": [],
   "source": [
    "# solution no 55"
   ]
  },
  {
   "cell_type": "code",
   "execution_count": 79,
   "id": "9b843ab1",
   "metadata": {},
   "outputs": [
    {
     "name": "stdout",
     "output_type": "stream",
     "text": [
      "the second largest num is :  87\n"
     ]
    }
   ],
   "source": [
    "list_val=[23,34,45,56,87,90,2,56,87]\n",
    "list_val.sort()\n",
    "print(\"the second largest num is : \",list_val[-2])"
   ]
  },
  {
   "cell_type": "code",
   "execution_count": 80,
   "id": "1a0cb2d9",
   "metadata": {},
   "outputs": [
    {
     "name": "stdout",
     "output_type": "stream",
     "text": [
      "The second largest element of the list is: 10\n"
     ]
    }
   ],
   "source": [
    "list_val = [20, 30, 40, 25, 10] \n",
    "list_val.sort() \n",
    "print(\"The second largest element of the list is:\", list_val[-0])"
   ]
  },
  {
   "cell_type": "code",
   "execution_count": null,
   "id": "26ea49fa",
   "metadata": {},
   "outputs": [],
   "source": [
    "# solution no 56"
   ]
  },
  {
   "cell_type": "code",
   "execution_count": 81,
   "id": "ed898721",
   "metadata": {},
   "outputs": [
    {
     "name": "stdout",
     "output_type": "stream",
     "text": [
      "[0, 1, 2, 3, 4, 5, 6, 7, 8, 9]\n"
     ]
    }
   ],
   "source": [
    "list1=[1,2,3,4,5,6]\n",
    "list2=[2,7,8,4,0,9]\n",
    "merge_list=list(set(list1+list2))\n",
    "print(merge_list)"
   ]
  },
  {
   "cell_type": "code",
   "execution_count": null,
   "id": "7cd5ce58",
   "metadata": {},
   "outputs": [],
   "source": [
    "# solution no 57"
   ]
  },
  {
   "cell_type": "code",
   "execution_count": 82,
   "id": "b06df900",
   "metadata": {},
   "outputs": [
    {
     "name": "stdout",
     "output_type": "stream",
     "text": [
      "{'a': 2, 1: 3, 'b': 3, 2: 3}\n"
     ]
    }
   ],
   "source": [
    "def CountFreq(li):             # doubt\n",
    "  freq = {}\n",
    "  for items in li:\n",
    "    freq[items] = freq.get(items,0)+1\n",
    "  print(freq)\n",
    "li =['a', 'a', 1, 1, 1, 'b', 'b', 'b', 2, 2, 2]\n",
    "CountFreq(li)"
   ]
  },
  {
   "cell_type": "code",
   "execution_count": null,
   "id": "94f3763e",
   "metadata": {},
   "outputs": [],
   "source": [
    "# solution no 58"
   ]
  },
  {
   "cell_type": "code",
   "execution_count": null,
   "id": "9ba73b73",
   "metadata": {},
   "outputs": [],
   "source": [
    "#doubt"
   ]
  },
  {
   "cell_type": "code",
   "execution_count": null,
   "id": "3c8f8f97",
   "metadata": {},
   "outputs": [],
   "source": [
    "# solution no 59"
   ]
  },
  {
   "cell_type": "code",
   "execution_count": null,
   "id": "83e623c2",
   "metadata": {},
   "outputs": [],
   "source": [
    "list1=(1,2,3,4,5)         # doubt\n",
    "list2=(0,9,8,7,6)\n"
   ]
  },
  {
   "cell_type": "code",
   "execution_count": null,
   "id": "0a3abd12",
   "metadata": {},
   "outputs": [],
   "source": [
    "# solution no 60"
   ]
  },
  {
   "cell_type": "code",
   "execution_count": null,
   "id": "653ca740",
   "metadata": {},
   "outputs": [],
   "source": [
    "# doubt"
   ]
  },
  {
   "cell_type": "code",
   "execution_count": null,
   "id": "b6b0e8cb",
   "metadata": {},
   "outputs": [],
   "source": [
    "# solution no 61"
   ]
  },
  {
   "cell_type": "code",
   "execution_count": 83,
   "id": "fbfb2f57",
   "metadata": {},
   "outputs": [
    {
     "name": "stdout",
     "output_type": "stream",
     "text": [
      "{'pawan'}\n"
     ]
    }
   ],
   "source": [
    "list1={\"aryan\",\"rohan\",\"alex\",\"pawan\",\"jitendra\"}\n",
    "list2={\"tanya\",\"pooja\",\"aysuhi\",\"sohan\",\"pawan\"}\n",
    "\n",
    "list3=list1.intersection(list2)\n",
    "print(list3)"
   ]
  },
  {
   "cell_type": "code",
   "execution_count": null,
   "id": "de2cd247",
   "metadata": {},
   "outputs": [],
   "source": [
    "# solution no 62"
   ]
  },
  {
   "cell_type": "code",
   "execution_count": null,
   "id": "def3b552",
   "metadata": {},
   "outputs": [],
   "source": [
    "#doubt"
   ]
  },
  {
   "cell_type": "code",
   "execution_count": null,
   "id": "57f26c24",
   "metadata": {},
   "outputs": [],
   "source": [
    "# solution no 63"
   ]
  },
  {
   "cell_type": "code",
   "execution_count": null,
   "id": "2ab9cf15",
   "metadata": {},
   "outputs": [],
   "source": [
    "#doubt"
   ]
  },
  {
   "cell_type": "code",
   "execution_count": null,
   "id": "c98c0a78",
   "metadata": {},
   "outputs": [],
   "source": [
    "# solution no 64"
   ]
  },
  {
   "cell_type": "code",
   "execution_count": null,
   "id": "251da5f5",
   "metadata": {},
   "outputs": [],
   "source": [
    "#doubt"
   ]
  }
 ],
 "metadata": {
  "kernelspec": {
   "display_name": "Python 3 (ipykernel)",
   "language": "python",
   "name": "python3"
  },
  "language_info": {
   "codemirror_mode": {
    "name": "ipython",
    "version": 3
   },
   "file_extension": ".py",
   "mimetype": "text/x-python",
   "name": "python",
   "nbconvert_exporter": "python",
   "pygments_lexer": "ipython3",
   "version": "3.11.3"
  }
 },
 "nbformat": 4,
 "nbformat_minor": 5
}
