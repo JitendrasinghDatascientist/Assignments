{
 "cells": [
  {
   "cell_type": "markdown",
   "id": "db7b1c5e",
   "metadata": {},
   "source": [
    "# 01. \n",
    "Handling categorical data is crucial in machine learning for several reasons:\n",
    "\n",
    "1.Compatibility with algorithms: Many machine learning algorithms cannot directly handle categorical data. They require numerical input. Therefore, converting categorical data into a numerical format allows these algorithms to process the data effectively.\n",
    "\n",
    "2.Avoiding bias: If categorical data is not properly handled, it can introduce bias into the model. For example, if categorical variables are not properly encoded, the model may incorrectly interpret them as ordinal when they are actually nominal, leading to erroneous conclusions.\n",
    "\n",
    "3.Enhancing model performance: Proper handling of categorical data can lead to better model performance. By encoding categorical variables appropriately, you provide the model with meaningful information, allowing it to make more accurate predictions.\n",
    "\n",
    "4.Preserving information: Categorical variables often contain important information about the data. Improper handling of these variables can result in loss of valuable information. Proper encoding techniques ensure that this information is preserved and utilized by the model.\n",
    "\n",
    "5.Interpretability: Categorical variables often represent qualitative attributes of the data. By properly handling these variables, you maintain the interpretability of the model. It becomes easier to understand and explain the relationship between the input features and the output predictions."
   ]
  },
  {
   "cell_type": "markdown",
   "id": "523acec0",
   "metadata": {},
   "source": [
    "# 02. Categorical values represent qualitative attributes that are typically non-numeric in nature. Here are some examples:\n",
    "\n",
    "Gender: Categories may include \"male,\" \"female,\" or \"other.\"\n",
    "Color: Categories such as \"red,\" \"blue,\" \"green,\" etc.\n",
    "Marital status: Categories like \"single,\" \"married,\" \"divorced,\" etc.\n",
    "Education level: Categories such as \"high school,\" \"college,\" \"graduate school,\" etc.\n",
    "Employment status: Categories like \"employed,\" \"unemployed,\" \"self-employed,\" etc.\n",
    "Vehicle type: Categories such as \"sedan,\" \"SUV,\" \"truck,\" etc.\n",
    "Income bracket: Categories like \"low-income,\" \"middle-income,\" \"high-income,\" etc.\n",
    "Blood type: Categories such as \"A,\" \"B,\" \"AB,\" \"O,\" etc.\n",
    "Country: Categories representing different countries such as \"USA,\" \"Canada,\" \"UK,\" etc.\n",
    "Product category: Categories like \"electronics,\" \"clothing,\" \"food,\" etc."
   ]
  },
  {
   "cell_type": "markdown",
   "id": "65ccd34c",
   "metadata": {},
   "source": [
    "# 03. \n",
    "1. LabelEncoding helps to convert categorical data into numerical data.\n",
    "2. One-Hot Encoding helps to convert categorical data into binary format."
   ]
  },
  {
   "cell_type": "markdown",
   "id": "8ad06e95",
   "metadata": {},
   "source": [
    "# 04.\n",
    "1. Label Encoding\n",
    "2. One-Hot Encoding"
   ]
  },
  {
   "cell_type": "markdown",
   "id": "d860e794",
   "metadata": {},
   "source": [
    "# 05. \n",
    "label Encoding assign the unique value to each categorical values in the give data.\n",
    "due to this is very easy to know the value in the big dataset.Example[0,1,2,3,4....]"
   ]
  },
  {
   "cell_type": "markdown",
   "id": "28f4449e",
   "metadata": {},
   "source": [
    "# 06.\n",
    "One-Hot Encoding is differ from the label Encoding beacaue One-Hot Encoding Assign the value to each categorical value in a binary format.Example[0,1,0,1,0,1]"
   ]
  },
  {
   "cell_type": "markdown",
   "id": "6d72ec3b",
   "metadata": {},
   "source": [
    "# 07.\n",
    "get_dummies give the output in Binary format to the give data set."
   ]
  },
  {
   "cell_type": "markdown",
   "id": "4007e7f2",
   "metadata": {},
   "source": [
    "# 08.\n",
    "1.dependent variable - like Exam Score or etc...\n",
    "2.Independent variable - like Hours .."
   ]
  },
  {
   "cell_type": "markdown",
   "id": "100e3ec4",
   "metadata": {},
   "source": [
    "# 09.\n",
    "outliers means like a data set which is differ from the other data set.\n"
   ]
  },
  {
   "cell_type": "markdown",
   "id": "ecf88131",
   "metadata": {},
   "source": [
    "# 10.\n",
    "customization of the pie chart.\n",
    "1. autopct\n",
    "2. shadow \n",
    "3. colors\n",
    "4. explode\n",
    "5. pctdistance\n",
    "6. wedgeprops\n",
    "7. textprops\n",
    "8. figure\n",
    "9. radius\n",
    "10.labeldistance\n"
   ]
  },
  {
   "cell_type": "code",
   "execution_count": null,
   "id": "afc70852",
   "metadata": {},
   "outputs": [],
   "source": []
  }
 ],
 "metadata": {
  "kernelspec": {
   "display_name": "Python 3 (ipykernel)",
   "language": "python",
   "name": "python3"
  },
  "language_info": {
   "codemirror_mode": {
    "name": "ipython",
    "version": 3
   },
   "file_extension": ".py",
   "mimetype": "text/x-python",
   "name": "python",
   "nbconvert_exporter": "python",
   "pygments_lexer": "ipython3",
   "version": "3.11.3"
  }
 },
 "nbformat": 4,
 "nbformat_minor": 5
}
