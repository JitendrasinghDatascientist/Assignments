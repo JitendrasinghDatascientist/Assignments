{
 "cells": [
  {
   "cell_type": "code",
   "execution_count": null,
   "id": "aba89b20",
   "metadata": {},
   "outputs": [],
   "source": [
    "# 1. solution no:"
   ]
  },
  {
   "cell_type": "markdown",
   "id": "bb4178c9",
   "metadata": {},
   "source": [
    "•\tCategorical data cannot typically be directly handled by machine learning algorithms, as most algorithms are primarily designed to operate with numerical data only. Therefore, before categorical features can be used as inputs to machine learning algorithms, they must be encoded as numerical values. "
   ]
  },
  {
   "cell_type": "code",
   "execution_count": null,
   "id": "dbb48413",
   "metadata": {},
   "outputs": [],
   "source": [
    "# 2. solution no:"
   ]
  },
  {
   "cell_type": "markdown",
   "id": "0038593a",
   "metadata": {},
   "source": [
    "Categorical values in Python are typically represented using strings or discrete numerical values that represent different categories or labels. Here are some examples of categorical values in Python: gender = \"Male\" , marital_status = \"Married\" , color = \"Blue\", day_of_week = \"Wednesday\", education_level = \"Bachelor's Degree\", vehicle_type = \"SUV\", rating = \"High\", product_category = \"Electronics\"."
   ]
  },
  {
   "cell_type": "code",
   "execution_count": null,
   "id": "3d635eb1",
   "metadata": {},
   "outputs": [],
   "source": [
    "# 3. solution no:"
   ]
  },
  {
   "cell_type": "code",
   "execution_count": 2,
   "id": "48911102",
   "metadata": {},
   "outputs": [
    {
     "name": "stdout",
     "output_type": "stream",
     "text": [
      "[2 1 0 1 2]\n"
     ]
    }
   ],
   "source": [
    " # With help of Labelencoding:\n",
    "from sklearn.preprocessing import LabelEncoder\n",
    "\n",
    "def perform_label_encoding(cv):\n",
    "    label_encoding=LabelEncoder()\n",
    "    encoded_labels=label_encoding.fit_transform(cv)\n",
    "    return encoded_labels\n",
    "cv=['red','green','blue','green','red']\n",
    "result= perform_label_encoding(cv)\n",
    "print(result)\n"
   ]
  },
  {
   "cell_type": "code",
   "execution_count": null,
   "id": "b27dfa82",
   "metadata": {},
   "outputs": [],
   "source": [
    " # With help of one-hot encoding:"
   ]
  },
  {
   "cell_type": "code",
   "execution_count": 3,
   "id": "ff996248",
   "metadata": {},
   "outputs": [
    {
     "data": {
      "text/html": [
       "<div>\n",
       "<style scoped>\n",
       "    .dataframe tbody tr th:only-of-type {\n",
       "        vertical-align: middle;\n",
       "    }\n",
       "\n",
       "    .dataframe tbody tr th {\n",
       "        vertical-align: top;\n",
       "    }\n",
       "\n",
       "    .dataframe thead th {\n",
       "        text-align: right;\n",
       "    }\n",
       "</style>\n",
       "<table border=\"1\" class=\"dataframe\">\n",
       "  <thead>\n",
       "    <tr style=\"text-align: right;\">\n",
       "      <th></th>\n",
       "      <th>category</th>\n",
       "      <th>color</th>\n",
       "    </tr>\n",
       "  </thead>\n",
       "  <tbody>\n",
       "    <tr>\n",
       "      <th>0</th>\n",
       "      <td>Apple</td>\n",
       "      <td>Red</td>\n",
       "    </tr>\n",
       "    <tr>\n",
       "      <th>1</th>\n",
       "      <td>Ladyfinger</td>\n",
       "      <td>Green</td>\n",
       "    </tr>\n",
       "    <tr>\n",
       "      <th>2</th>\n",
       "      <td>Apple</td>\n",
       "      <td>Red</td>\n",
       "    </tr>\n",
       "    <tr>\n",
       "      <th>3</th>\n",
       "      <td>Cat</td>\n",
       "      <td>Red</td>\n",
       "    </tr>\n",
       "    <tr>\n",
       "      <th>4</th>\n",
       "      <td>Ball</td>\n",
       "      <td>Green</td>\n",
       "    </tr>\n",
       "  </tbody>\n",
       "</table>\n",
       "</div>"
      ],
      "text/plain": [
       "     category  color\n",
       "0       Apple    Red\n",
       "1  Ladyfinger  Green\n",
       "2       Apple    Red\n",
       "3         Cat    Red\n",
       "4        Ball  Green"
      ]
     },
     "execution_count": 3,
     "metadata": {},
     "output_type": "execute_result"
    }
   ],
   "source": [
    "import pandas as pd \n",
    "data={\n",
    "    'category':['Apple','Ladyfinger','Apple','Cat','Ball'],\n",
    "    'color':['Red','Green','Red','Red','Green']\n",
    "}\n",
    "df=pd.DataFrame(data)\n",
    "df"
   ]
  },
  {
   "cell_type": "code",
   "execution_count": 4,
   "id": "cdbda42f",
   "metadata": {},
   "outputs": [
    {
     "data": {
      "text/html": [
       "<div>\n",
       "<style scoped>\n",
       "    .dataframe tbody tr th:only-of-type {\n",
       "        vertical-align: middle;\n",
       "    }\n",
       "\n",
       "    .dataframe tbody tr th {\n",
       "        vertical-align: top;\n",
       "    }\n",
       "\n",
       "    .dataframe thead th {\n",
       "        text-align: right;\n",
       "    }\n",
       "</style>\n",
       "<table border=\"1\" class=\"dataframe\">\n",
       "  <thead>\n",
       "    <tr style=\"text-align: right;\">\n",
       "      <th></th>\n",
       "      <th>category_Apple</th>\n",
       "      <th>category_Ball</th>\n",
       "      <th>category_Cat</th>\n",
       "      <th>category_Ladyfinger</th>\n",
       "      <th>color_Green</th>\n",
       "      <th>color_Red</th>\n",
       "    </tr>\n",
       "  </thead>\n",
       "  <tbody>\n",
       "    <tr>\n",
       "      <th>0</th>\n",
       "      <td>1</td>\n",
       "      <td>0</td>\n",
       "      <td>0</td>\n",
       "      <td>0</td>\n",
       "      <td>0</td>\n",
       "      <td>1</td>\n",
       "    </tr>\n",
       "    <tr>\n",
       "      <th>1</th>\n",
       "      <td>0</td>\n",
       "      <td>0</td>\n",
       "      <td>0</td>\n",
       "      <td>1</td>\n",
       "      <td>1</td>\n",
       "      <td>0</td>\n",
       "    </tr>\n",
       "    <tr>\n",
       "      <th>2</th>\n",
       "      <td>1</td>\n",
       "      <td>0</td>\n",
       "      <td>0</td>\n",
       "      <td>0</td>\n",
       "      <td>0</td>\n",
       "      <td>1</td>\n",
       "    </tr>\n",
       "    <tr>\n",
       "      <th>3</th>\n",
       "      <td>0</td>\n",
       "      <td>0</td>\n",
       "      <td>1</td>\n",
       "      <td>0</td>\n",
       "      <td>0</td>\n",
       "      <td>1</td>\n",
       "    </tr>\n",
       "    <tr>\n",
       "      <th>4</th>\n",
       "      <td>0</td>\n",
       "      <td>1</td>\n",
       "      <td>0</td>\n",
       "      <td>0</td>\n",
       "      <td>1</td>\n",
       "      <td>0</td>\n",
       "    </tr>\n",
       "  </tbody>\n",
       "</table>\n",
       "</div>"
      ],
      "text/plain": [
       "   category_Apple  category_Ball  category_Cat  category_Ladyfinger  \\\n",
       "0               1              0             0                    0   \n",
       "1               0              0             0                    1   \n",
       "2               1              0             0                    0   \n",
       "3               0              0             1                    0   \n",
       "4               0              1             0                    0   \n",
       "\n",
       "   color_Green  color_Red  \n",
       "0            0          1  \n",
       "1            1          0  \n",
       "2            0          1  \n",
       "3            0          1  \n",
       "4            1          0  "
      ]
     },
     "execution_count": 4,
     "metadata": {},
     "output_type": "execute_result"
    }
   ],
   "source": [
    "ohe=pd.get_dummies(df)\n",
    "ohe"
   ]
  },
  {
   "cell_type": "code",
   "execution_count": 5,
   "id": "4ac15ce7",
   "metadata": {},
   "outputs": [
    {
     "data": {
      "text/html": [
       "<div>\n",
       "<style scoped>\n",
       "    .dataframe tbody tr th:only-of-type {\n",
       "        vertical-align: middle;\n",
       "    }\n",
       "\n",
       "    .dataframe tbody tr th {\n",
       "        vertical-align: top;\n",
       "    }\n",
       "\n",
       "    .dataframe thead th {\n",
       "        text-align: right;\n",
       "    }\n",
       "</style>\n",
       "<table border=\"1\" class=\"dataframe\">\n",
       "  <thead>\n",
       "    <tr style=\"text-align: right;\">\n",
       "      <th></th>\n",
       "      <th>category_Apple</th>\n",
       "      <th>category_Ball</th>\n",
       "      <th>category_Cat</th>\n",
       "      <th>category_Ladyfinger</th>\n",
       "      <th>color_Green</th>\n",
       "      <th>color_Red</th>\n",
       "    </tr>\n",
       "  </thead>\n",
       "  <tbody>\n",
       "    <tr>\n",
       "      <th>0</th>\n",
       "      <td>1</td>\n",
       "      <td>0</td>\n",
       "      <td>0</td>\n",
       "      <td>0</td>\n",
       "      <td>0</td>\n",
       "      <td>1</td>\n",
       "    </tr>\n",
       "    <tr>\n",
       "      <th>1</th>\n",
       "      <td>0</td>\n",
       "      <td>0</td>\n",
       "      <td>0</td>\n",
       "      <td>1</td>\n",
       "      <td>1</td>\n",
       "      <td>0</td>\n",
       "    </tr>\n",
       "    <tr>\n",
       "      <th>2</th>\n",
       "      <td>1</td>\n",
       "      <td>0</td>\n",
       "      <td>0</td>\n",
       "      <td>0</td>\n",
       "      <td>0</td>\n",
       "      <td>1</td>\n",
       "    </tr>\n",
       "    <tr>\n",
       "      <th>3</th>\n",
       "      <td>0</td>\n",
       "      <td>0</td>\n",
       "      <td>1</td>\n",
       "      <td>0</td>\n",
       "      <td>0</td>\n",
       "      <td>1</td>\n",
       "    </tr>\n",
       "    <tr>\n",
       "      <th>4</th>\n",
       "      <td>0</td>\n",
       "      <td>1</td>\n",
       "      <td>0</td>\n",
       "      <td>0</td>\n",
       "      <td>1</td>\n",
       "      <td>0</td>\n",
       "    </tr>\n",
       "  </tbody>\n",
       "</table>\n",
       "</div>"
      ],
      "text/plain": [
       "   category_Apple  category_Ball  category_Cat  category_Ladyfinger  \\\n",
       "0               1              0             0                    0   \n",
       "1               0              0             0                    1   \n",
       "2               1              0             0                    0   \n",
       "3               0              0             1                    0   \n",
       "4               0              1             0                    0   \n",
       "\n",
       "   color_Green  color_Red  \n",
       "0            0          1  \n",
       "1            1          0  \n",
       "2            0          1  \n",
       "3            0          1  \n",
       "4            1          0  "
      ]
     },
     "execution_count": 5,
     "metadata": {},
     "output_type": "execute_result"
    }
   ],
   "source": [
    "ohe=pd.get_dummies(df,columns=['category','color'])\n",
    "ohe"
   ]
  },
  {
   "cell_type": "code",
   "execution_count": null,
   "id": "2c98efe0",
   "metadata": {},
   "outputs": [],
   "source": [
    "# 4. solution no:"
   ]
  },
  {
   "cell_type": "markdown",
   "id": "032f761e",
   "metadata": {},
   "source": [
    "One-hot encoding and label encoding"
   ]
  },
  {
   "cell_type": "code",
   "execution_count": null,
   "id": "bde64b24",
   "metadata": {},
   "outputs": [],
   "source": []
  },
  {
   "cell_type": "code",
   "execution_count": null,
   "id": "47285097",
   "metadata": {},
   "outputs": [],
   "source": [
    "# 5. solution no:"
   ]
  },
  {
   "cell_type": "code",
   "execution_count": null,
   "id": "ebabf73a",
   "metadata": {},
   "outputs": [],
   "source": [
    "# before label encoding:\n",
    "Color\n",
    "-----\n",
    "Red\n",
    "Blue\n",
    "Green\n"
   ]
  },
  {
   "cell_type": "code",
   "execution_count": null,
   "id": "a82aed6e",
   "metadata": {},
   "outputs": [],
   "source": [
    "# After label encoding:\n",
    "Color\n",
    "-----\n",
    "0\n",
    "1\n",
    "2\n"
   ]
  },
  {
   "cell_type": "markdown",
   "id": "0bf904dc",
   "metadata": {},
   "source": [
    "Label encoding is a technique used in machine learning and data preprocessing to convert categorical data into numerical format. Categorical data consists of labels or categories that don't have an inherent numerical value, such as colors, types of animals, or product categories. Machine learning algorithms typically require numerical input data, so label encoding is a way to represent these categories with numerical values."
   ]
  },
  {
   "cell_type": "code",
   "execution_count": null,
   "id": "d272c009",
   "metadata": {},
   "outputs": [],
   "source": [
    "# 6. solution no:"
   ]
  },
  {
   "cell_type": "markdown",
   "id": "afcae03e",
   "metadata": {},
   "source": [
    "One-hot encoding is a technique used to convert categorical data into a binary format that can be easily utilized by machine learning algorithms. It differs significantly from label encoding, as it creates a binary representation for each category, rather than assigning numerical labels. Here's how one-hot encoding works and how it differs from label encoding:\n",
    "\n",
    "One-Hot Encoding:\n",
    "\n",
    "Identification of Categorical Variables: Similar to label encoding, the first step in one-hot encoding is identifying the categorical variables in your dataset.\n",
    "\n",
    "Creation of Binary Columns: For each unique category in a categorical variable, one-hot encoding creates a new binary (0 or 1) column. Each binary column corresponds to one category and indicates whether the category is present (1) or not (0) for each data point.\n",
    "\n",
    "For example, if you have a \"Color\" column with categories \"Red,\" \"Blue,\" and \"Green,\" one-hot encoding would create three binary columns, one for each category:\n",
    "\n",
    "Before One-Hot Encoding:"
   ]
  },
  {
   "cell_type": "markdown",
   "id": "d59b1701",
   "metadata": {},
   "source": [
    "Color\n",
    "-----\n",
    "Red\n",
    "Blue\n",
    "Green\n"
   ]
  },
  {
   "cell_type": "markdown",
   "id": "9874248d",
   "metadata": {},
   "source": [
    "After One-Hot Encoding:"
   ]
  },
  {
   "cell_type": "code",
   "execution_count": null,
   "id": "65cf3b65",
   "metadata": {},
   "outputs": [],
   "source": [
    "Color_Red | Color_Blue | Color_Green\n",
    "---------|-----------|------------\n",
    "1        | 0         | 0\n",
    "0        | 1         | 0\n",
    "0        | 0         | 1\n"
   ]
  },
  {
   "cell_type": "markdown",
   "id": "b5b207c2",
   "metadata": {},
   "source": [
    "Usage in Machine Learning: The resulting binary columns can be used as input features for machine learning algorithms. Each column represents a categorical variable in a way that does not introduce unintended ordinality, as is the case with label encoding.\n",
    "\n",
    "Differences between Label Encoding and One-Hot Encoding:\n",
    "\n",
    "Representation: Label encoding represents categorical data with integer labels (e.g., 0, 1, 2), while one-hot encoding creates binary columns for each category, resulting in a binary representation.\n",
    "\n",
    "Ordinality: Label encoding may introduce unintended ordinality when numeric labels are assigned, which can mislead some algorithms. One-hot encoding does not introduce ordinality, as each category is represented independently in binary form.\n",
    "\n",
    "Dimensionality: One-hot encoding typically increases the dimensionality of the dataset because it creates a binary column for each category. This can be an advantage when dealing with nominal categorical data with no inherent order, but it can also lead to a high number of features, potentially increasing computational complexity.\n",
    "\n",
    "Interpretability: Label encoding retains the original categories but converts them to numerical values. One-hot encoding creates a binary representation that may be less interpretable, especially when there are many categories."
   ]
  },
  {
   "cell_type": "code",
   "execution_count": null,
   "id": "1f7cdb71",
   "metadata": {},
   "outputs": [],
   "source": [
    "# 7. solution no:"
   ]
  },
  {
   "cell_type": "code",
   "execution_count": 7,
   "id": "d96c3c60",
   "metadata": {},
   "outputs": [
    {
     "data": {
      "text/html": [
       "<div>\n",
       "<style scoped>\n",
       "    .dataframe tbody tr th:only-of-type {\n",
       "        vertical-align: middle;\n",
       "    }\n",
       "\n",
       "    .dataframe tbody tr th {\n",
       "        vertical-align: top;\n",
       "    }\n",
       "\n",
       "    .dataframe thead th {\n",
       "        text-align: right;\n",
       "    }\n",
       "</style>\n",
       "<table border=\"1\" class=\"dataframe\">\n",
       "  <thead>\n",
       "    <tr style=\"text-align: right;\">\n",
       "      <th></th>\n",
       "      <th>category</th>\n",
       "      <th>color</th>\n",
       "    </tr>\n",
       "  </thead>\n",
       "  <tbody>\n",
       "    <tr>\n",
       "      <th>0</th>\n",
       "      <td>Apple</td>\n",
       "      <td>Red</td>\n",
       "    </tr>\n",
       "    <tr>\n",
       "      <th>1</th>\n",
       "      <td>Ladyfinger</td>\n",
       "      <td>Green</td>\n",
       "    </tr>\n",
       "    <tr>\n",
       "      <th>2</th>\n",
       "      <td>Apple</td>\n",
       "      <td>Red</td>\n",
       "    </tr>\n",
       "    <tr>\n",
       "      <th>3</th>\n",
       "      <td>Cat</td>\n",
       "      <td>Red</td>\n",
       "    </tr>\n",
       "    <tr>\n",
       "      <th>4</th>\n",
       "      <td>Ball</td>\n",
       "      <td>Green</td>\n",
       "    </tr>\n",
       "  </tbody>\n",
       "</table>\n",
       "</div>"
      ],
      "text/plain": [
       "     category  color\n",
       "0       Apple    Red\n",
       "1  Ladyfinger  Green\n",
       "2       Apple    Red\n",
       "3         Cat    Red\n",
       "4        Ball  Green"
      ]
     },
     "execution_count": 7,
     "metadata": {},
     "output_type": "execute_result"
    }
   ],
   "source": [
    "import pandas as pd \n",
    "data={\n",
    "    'category':['Apple','Ladyfinger','Apple','Cat','Ball'],\n",
    "    'color':['Red','Green','Red','Red','Green']\n",
    "}\n",
    "df=pd.DataFrame(data)\n",
    "df"
   ]
  },
  {
   "cell_type": "code",
   "execution_count": 8,
   "id": "668ed994",
   "metadata": {},
   "outputs": [
    {
     "data": {
      "text/html": [
       "<div>\n",
       "<style scoped>\n",
       "    .dataframe tbody tr th:only-of-type {\n",
       "        vertical-align: middle;\n",
       "    }\n",
       "\n",
       "    .dataframe tbody tr th {\n",
       "        vertical-align: top;\n",
       "    }\n",
       "\n",
       "    .dataframe thead th {\n",
       "        text-align: right;\n",
       "    }\n",
       "</style>\n",
       "<table border=\"1\" class=\"dataframe\">\n",
       "  <thead>\n",
       "    <tr style=\"text-align: right;\">\n",
       "      <th></th>\n",
       "      <th>category_Apple</th>\n",
       "      <th>category_Ball</th>\n",
       "      <th>category_Cat</th>\n",
       "      <th>category_Ladyfinger</th>\n",
       "      <th>color_Green</th>\n",
       "      <th>color_Red</th>\n",
       "    </tr>\n",
       "  </thead>\n",
       "  <tbody>\n",
       "    <tr>\n",
       "      <th>0</th>\n",
       "      <td>1</td>\n",
       "      <td>0</td>\n",
       "      <td>0</td>\n",
       "      <td>0</td>\n",
       "      <td>0</td>\n",
       "      <td>1</td>\n",
       "    </tr>\n",
       "    <tr>\n",
       "      <th>1</th>\n",
       "      <td>0</td>\n",
       "      <td>0</td>\n",
       "      <td>0</td>\n",
       "      <td>1</td>\n",
       "      <td>1</td>\n",
       "      <td>0</td>\n",
       "    </tr>\n",
       "    <tr>\n",
       "      <th>2</th>\n",
       "      <td>1</td>\n",
       "      <td>0</td>\n",
       "      <td>0</td>\n",
       "      <td>0</td>\n",
       "      <td>0</td>\n",
       "      <td>1</td>\n",
       "    </tr>\n",
       "    <tr>\n",
       "      <th>3</th>\n",
       "      <td>0</td>\n",
       "      <td>0</td>\n",
       "      <td>1</td>\n",
       "      <td>0</td>\n",
       "      <td>0</td>\n",
       "      <td>1</td>\n",
       "    </tr>\n",
       "    <tr>\n",
       "      <th>4</th>\n",
       "      <td>0</td>\n",
       "      <td>1</td>\n",
       "      <td>0</td>\n",
       "      <td>0</td>\n",
       "      <td>1</td>\n",
       "      <td>0</td>\n",
       "    </tr>\n",
       "  </tbody>\n",
       "</table>\n",
       "</div>"
      ],
      "text/plain": [
       "   category_Apple  category_Ball  category_Cat  category_Ladyfinger  \\\n",
       "0               1              0             0                    0   \n",
       "1               0              0             0                    1   \n",
       "2               1              0             0                    0   \n",
       "3               0              0             1                    0   \n",
       "4               0              1             0                    0   \n",
       "\n",
       "   color_Green  color_Red  \n",
       "0            0          1  \n",
       "1            1          0  \n",
       "2            0          1  \n",
       "3            0          1  \n",
       "4            1          0  "
      ]
     },
     "execution_count": 8,
     "metadata": {},
     "output_type": "execute_result"
    }
   ],
   "source": [
    "ohe=pd.get_dummies(df)\n",
    "ohe"
   ]
  },
  {
   "cell_type": "code",
   "execution_count": null,
   "id": "556f371e",
   "metadata": {},
   "outputs": [],
   "source": [
    "# 8. solution no:"
   ]
  },
  {
   "cell_type": "markdown",
   "id": "a7be5634",
   "metadata": {},
   "source": [
    "# Independent variable - Advertising spending \n",
    "# dependent variable - Product sales"
   ]
  },
  {
   "cell_type": "code",
   "execution_count": null,
   "id": "082a09f0",
   "metadata": {},
   "outputs": [],
   "source": [
    "# 9. solution no:"
   ]
  },
  {
   "cell_type": "markdown",
   "id": "f2722c1d",
   "metadata": {},
   "source": [
    "Outliers are data points that significantly deviate from the majority of the data in a dataset. They are observations that are noticeably different or abnormal compared to the rest of the data. Outliers can occur in various types of data, including numerical, categorical, and even time series data, and they can have a significant impact on statistical analyses and machine learning models. Here's how outliers deviate from the majority of the data:\n",
    "\n",
    "Numerical Data:\n",
    "\n",
    "Higher or Lower Values: In numerical datasets, outliers are data points that have exceptionally high or low values compared to the central tendency of the data. They can be seen as data points that fall far away from the mean or median of the dataset.\n",
    "Skewed Distributions: Outliers can distort the distribution of data, leading to a skewed or non-normal distribution. For example, in a dataset of income levels, a few extremely high-income individuals could be considered outliers.\n",
    "Categorical Data:\n",
    "\n",
    "In categorical datasets, outliers represent categories that are infrequent or rare compared to the predominant categories. For example, if you have a dataset of car colors with mostly \"Red,\" \"Blue,\" and \"Green,\" the color \"Purple\" might be an outlier if it occurs very rarely.\n",
    "Time Series Data:\n",
    "\n",
    "In time series data, outliers can manifest as sudden spikes or drops in values at specific time points. These anomalies can be indicative of unusual events or errors in data collection.\n",
    "Outliers can arise due to various reasons, including data entry errors, measurement errors, natural variability, or genuinely unusual events. It's important to detect and handle outliers appropriately because they can have a significant impact on data analysis and modeling:\n",
    "\n",
    "Impacts of Outliers:\n",
    "\n",
    "Statistical Measures: Outliers can distort basic statistical measures like the mean and standard deviation, making them less representative of the central tendency and spread of the data.\n",
    "\n",
    "Machine Learning Models: Outliers can adversely affect the performance of machine learning models. Some models are sensitive to outliers and may give them undue influence, leading to suboptimal predictions.\n",
    "\n",
    "Data Visualization: Outliers can distort data visualization, making it challenging to interpret plots and identify meaningful patterns.\n",
    "\n",
    "Methods to Detect and Handle Outliers:\n",
    "\n",
    "Visual Inspection: Data visualization techniques such as box plots, scatter plots, and histograms can help identify outliers visually.\n",
    "\n",
    "Statistical Methods: Statistical tests like the Z-score or the IQR (Interquartile Range) can be used to detect outliers based on their deviation from the mean or median.\n",
    "\n",
    "Domain Knowledge: Subject-matter expertise can help identify whether an observation is a legitimate outlier or a meaningful data point.\n",
    "\n",
    "Data Transformation: Outliers can be transformed or treated using techniques like winsorization (capping extreme values) or log transformation.\n",
    "\n",
    "Outlier Removal: In some cases, it may be appropriate to remove outliers if they are caused by data errors or if they significantly affect the analysis or modeling process."
   ]
  },
  {
   "cell_type": "code",
   "execution_count": null,
   "id": "40ddee16",
   "metadata": {},
   "outputs": [],
   "source": [
    "# 10. solution no:"
   ]
  },
  {
   "cell_type": "code",
   "execution_count": 9,
   "id": "504d3ad0",
   "metadata": {},
   "outputs": [
    {
     "data": {
      "text/plain": [
       "([<matplotlib.patches.Wedge at 0x230b3dafbd0>,\n",
       "  <matplotlib.patches.Wedge at 0x230b3dbd390>,\n",
       "  <matplotlib.patches.Wedge at 0x230b3dbe650>,\n",
       "  <matplotlib.patches.Wedge at 0x230b3dbfdd0>,\n",
       "  <matplotlib.patches.Wedge at 0x230b3dc5350>],\n",
       " [Text(0.9526279355804298, 0.5500000148652441, ''),\n",
       "  Text(-0.09587136262132472, 1.0958141639115322, ''),\n",
       "  Text(-1.0999999999999954, -1.0298943258065002e-07, ''),\n",
       "  Text(-0.28470078381251446, -1.0625184533440066, ''),\n",
       "  Text(0.8426490161537282, -0.7070662172492433, '')])"
      ]
     },
     "execution_count": 9,
     "metadata": {},
     "output_type": "execute_result"
    },
    {
     "data": {
      "image/png": "[encoded data removed]",
      "text/plain": [
       "<Figure size 640x480 with 1 Axes>"
      ]
     },
     "metadata": {},
     "output_type": "display_data"
    }
   ],
   "source": [
    "import matplotlib.pyplot as plt\n",
    "empdata = {\n",
    "    'ram': 60000,\n",
    "    'alex':70000,\n",
    "    'salaam':100000,\n",
    "    'krish':50000,\n",
    "    'Yash':80000\n",
    "}\n",
    "salary = empdata.values()\n",
    "\n",
    "plt.pie(salary)"
   ]
  },
  {
   "cell_type": "code",
   "execution_count": 10,
   "id": "3125daae",
   "metadata": {},
   "outputs": [
    {
     "data": {
      "text/plain": [
       "([<matplotlib.patches.Wedge at 0x230b3e75150>,\n",
       "  <matplotlib.patches.Wedge at 0x230b3e75a90>,\n",
       "  <matplotlib.patches.Wedge at 0x230b3e76e10>,\n",
       "  <matplotlib.patches.Wedge at 0x230b3e88490>,\n",
       "  <matplotlib.patches.Wedge at 0x230b3e89850>],\n",
       " [Text(0.9526279355804298, 0.5500000148652441, 'ram'),\n",
       "  Text(-0.09587136262132472, 1.0958141639115322, 'alex'),\n",
       "  Text(-1.0999999999999954, -1.0298943258065002e-07, 'salaam'),\n",
       "  Text(-0.28470078381251446, -1.0625184533440066, 'krish'),\n",
       "  Text(0.8426490161537282, -0.7070662172492433, 'Yash')])"
      ]
     },
     "execution_count": 10,
     "metadata": {},
     "output_type": "execute_result"
    },
    {
     "data": {
      "image/png": "[encoded data removed]",
      "text/plain": [
       "<Figure size 640x480 with 1 Axes>"
      ]
     },
     "metadata": {},
     "output_type": "display_data"
    }
   ],
   "source": [
    "import matplotlib.pyplot as plt\n",
    "empdata = {\n",
    "    'ram': 60000,\n",
    "    'alex':70000,\n",
    "    'salaam':100000,\n",
    "    'krish':50000,\n",
    "    'Yash':80000\n",
    "}\n",
    "salary = empdata.values()\n",
    "labels = empdata.keys()\n",
    "plt.pie(salary,labels=labels)"
   ]
  },
  {
   "cell_type": "code",
   "execution_count": 11,
   "id": "574550e7",
   "metadata": {},
   "outputs": [
    {
     "data": {
      "image/png": "[encoded data removed]",
      "text/plain": [
       "<Figure size 640x480 with 1 Axes>"
      ]
     },
     "metadata": {},
     "output_type": "display_data"
    }
   ],
   "source": [
    "import matplotlib.pyplot as plt\n",
    "empdata = {\n",
    "    'ram': 60000,\n",
    "    'alex':70000,\n",
    "    'salaam':100000,\n",
    "    'krish':50000,\n",
    "    'Yash':80000\n",
    "}\n",
    "salary = empdata.values()\n",
    "names = empdata.keys()\n",
    "plt.pie(salary,labels=names,autopct=\"%1.2f%%\")\n",
    "plt.show()"
   ]
  },
  {
   "cell_type": "code",
   "execution_count": 13,
   "id": "94f4a6f1",
   "metadata": {},
   "outputs": [],
   "source": [
    "colors = ['gold','lightcoral','lightskyblue','lightgreen','orange']"
   ]
  },
  {
   "cell_type": "code",
   "execution_count": 14,
   "id": "2b002db9",
   "metadata": {},
   "outputs": [
    {
     "data": {
      "image/png": "[encoded data removed]",
      "text/plain": [
       "<Figure size 640x480 with 1 Axes>"
      ]
     },
     "metadata": {},
     "output_type": "display_data"
    }
   ],
   "source": [
    "import matplotlib.pyplot as plt\n",
    "empdata = {\n",
    "    'ram': 60000,\n",
    "    'alex':70000,\n",
    "    'salaam':100000,\n",
    "    'krish':50000,\n",
    "    'Yash':80000\n",
    "}\n",
    "salary = empdata.values()\n",
    "names = empdata.keys()\n",
    "plt.pie(salary,labels=names,autopct=\"%1.0f%%\",colors=colors)\n",
    "plt.show()"
   ]
  },
  {
   "cell_type": "code",
   "execution_count": null,
   "id": "38301967",
   "metadata": {},
   "outputs": [],
   "source": [
    "# 1. solution no:"
   ]
  },
  {
   "cell_type": "code",
   "execution_count": null,
   "id": "6a66f068",
   "metadata": {},
   "outputs": [],
   "source": [
    "# 1. solution no:"
   ]
  },
  {
   "cell_type": "code",
   "execution_count": null,
   "id": "ebb674df",
   "metadata": {},
   "outputs": [],
   "source": []
  },
  {
   "cell_type": "code",
   "execution_count": null,
   "id": "562fbfdf",
   "metadata": {},
   "outputs": [],
   "source": []
  },
  {
   "cell_type": "code",
   "execution_count": null,
   "id": "21a52c29",
   "metadata": {},
   "outputs": [],
   "source": []
  },
  {
   "cell_type": "code",
   "execution_count": null,
   "id": "7f3efbd6",
   "metadata": {},
   "outputs": [],
   "source": []
  },
  {
   "cell_type": "code",
   "execution_count": null,
   "id": "9d9f14e2",
   "metadata": {},
   "outputs": [],
   "source": []
  },
  {
   "cell_type": "code",
   "execution_count": null,
   "id": "ee7c536b",
   "metadata": {},
   "outputs": [],
   "source": []
  }
 ],
 "metadata": {
  "kernelspec": {
   "display_name": "Python 3 (ipykernel)",
   "language": "python",
   "name": "python3"
  },
  "language_info": {
   "codemirror_mode": {
    "name": "ipython",
    "version": 3
   },
   "file_extension": ".py",
   "mimetype": "text/x-python",
   "name": "python",
   "nbconvert_exporter": "python",
   "pygments_lexer": "ipython3",
   "version": "3.11.3"
  }
 },
 "nbformat": 4,
 "nbformat_minor": 5
}
