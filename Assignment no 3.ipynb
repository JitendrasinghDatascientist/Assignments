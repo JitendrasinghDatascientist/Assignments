{
 "cells": [
  {
   "cell_type": "code",
   "execution_count": null,
   "id": "4ab632aa",
   "metadata": {},
   "outputs": [],
   "source": [
    "# Assignment no 3:"
   ]
  },
  {
   "cell_type": "code",
   "execution_count": null,
   "id": "b52dedbc",
   "metadata": {},
   "outputs": [],
   "source": [
    "# solution no 1:"
   ]
  },
  {
   "cell_type": "markdown",
   "id": "e4829216",
   "metadata": {},
   "source": [
    "* math.sqrt()\n",
    "* math.pow()\n",
    "* math.pi ()\n",
    "* round ()\n",
    "* math.e ()"
   ]
  },
  {
   "cell_type": "code",
   "execution_count": null,
   "id": "d53b3896",
   "metadata": {},
   "outputs": [],
   "source": [
    "# solution no 2:"
   ]
  },
  {
   "cell_type": "code",
   "execution_count": 4,
   "id": "fa927b3c",
   "metadata": {},
   "outputs": [
    {
     "name": "stdout",
     "output_type": "stream",
     "text": [
      "31\n"
     ]
    }
   ],
   "source": [
    "import random\n",
    "res= random.randint(1,300)\n",
    "print(res)"
   ]
  },
  {
   "cell_type": "code",
   "execution_count": 3,
   "id": "63fa78c5",
   "metadata": {},
   "outputs": [],
   "source": [
    "# solution no 3:"
   ]
  },
  {
   "cell_type": "markdown",
   "id": "d73a6a3d",
   "metadata": {},
   "source": [
    "* A function is a block of code (or statement) that performs a specific task and runs only when it is called.\n",
    "for example- math.sqrt()\n",
    "math.pow()\n",
    "math.pi ()\n",
    "round ()\n",
    "math.e ()\n",
    "* As Python is an Object-Oriented Programming language, so it contains objects, and these objects have different properties and behavior.\n",
    "for example -add,res,math,lamda,modulus."
   ]
  },
  {
   "cell_type": "code",
   "execution_count": null,
   "id": "5deb13c3",
   "metadata": {},
   "outputs": [],
   "source": [
    "# solution no 4:"
   ]
  },
  {
   "cell_type": "code",
   "execution_count": 6,
   "id": "0daba31d",
   "metadata": {},
   "outputs": [
    {
     "name": "stdout",
     "output_type": "stream",
     "text": [
      "cannot add string and integer\n"
     ]
    }
   ],
   "source": [
    "try:\n",
    "    2+\"2\"\n",
    "except:\n",
    "    print(\"cannot add string and integer\")\n"
   ]
  },
  {
   "cell_type": "code",
   "execution_count": null,
   "id": "476410a8",
   "metadata": {},
   "outputs": [],
   "source": [
    "# solution no 5:"
   ]
  },
  {
   "cell_type": "code",
   "execution_count": 7,
   "id": "7f131925",
   "metadata": {},
   "outputs": [
    {
     "name": "stdout",
     "output_type": "stream",
     "text": [
      "1. Hello world\n",
      "2. Hello world\n",
      "3. Hello world\n",
      "4. Hello world\n",
      "5. Hello world\n"
     ]
    }
   ],
   "source": [
    "print(\"1. Hello world\")\n",
    "print(\"2. Hello world\")\n",
    "print(\"3. Hello world\")\n",
    "print(\"4. Hello world\")\n",
    "print(\"5. Hello world\")"
   ]
  },
  {
   "cell_type": "code",
   "execution_count": null,
   "id": "78bff11f",
   "metadata": {},
   "outputs": [],
   "source": [
    "# solution no 6:"
   ]
  },
  {
   "cell_type": "code",
   "execution_count": 9,
   "id": "654f0295",
   "metadata": {},
   "outputs": [
    {
     "name": "stdout",
     "output_type": "stream",
     "text": [
      "1. Hello world\n",
      "2. Hello world\n",
      "3. Hello world\n"
     ]
    },
    {
     "ename": "ZeroDivisionError",
     "evalue": "division by zero",
     "output_type": "error",
     "traceback": [
      "\u001b[1;31m---------------------------------------------------------------------------\u001b[0m",
      "\u001b[1;31mZeroDivisionError\u001b[0m                         Traceback (most recent call last)",
      "Cell \u001b[1;32mIn[9], line 4\u001b[0m\n\u001b[0;32m      2\u001b[0m \u001b[38;5;28mprint\u001b[39m(\u001b[38;5;124m\"\u001b[39m\u001b[38;5;124m2. Hello world\u001b[39m\u001b[38;5;124m\"\u001b[39m)\n\u001b[0;32m      3\u001b[0m \u001b[38;5;28mprint\u001b[39m(\u001b[38;5;124m\"\u001b[39m\u001b[38;5;124m3. Hello world\u001b[39m\u001b[38;5;124m\"\u001b[39m)\n\u001b[1;32m----> 4\u001b[0m \u001b[38;5;28mprint\u001b[39m(\u001b[38;5;241m4\u001b[39m\u001b[38;5;241m/\u001b[39m\u001b[38;5;241m0\u001b[39m)\n\u001b[0;32m      5\u001b[0m \u001b[38;5;28mprint\u001b[39m(\u001b[38;5;124m\"\u001b[39m\u001b[38;5;124m4. Hello world\u001b[39m\u001b[38;5;124m\"\u001b[39m)\n\u001b[0;32m      6\u001b[0m \u001b[38;5;28mprint\u001b[39m(\u001b[38;5;124m\"\u001b[39m\u001b[38;5;124m5. Hello world\u001b[39m\u001b[38;5;124m\"\u001b[39m)\n",
      "\u001b[1;31mZeroDivisionError\u001b[0m: division by zero"
     ]
    }
   ],
   "source": [
    "print(\"1. Hello world\")\n",
    "print(\"2. Hello world\")\n",
    "print(\"3. Hello world\")\n",
    "print(4/0)\n",
    "print(\"4. Hello world\")\n",
    "print(\"5. Hello world\")"
   ]
  },
  {
   "cell_type": "code",
   "execution_count": null,
   "id": "b948c200",
   "metadata": {},
   "outputs": [],
   "source": [
    "# solution no 7:"
   ]
  },
  {
   "cell_type": "code",
   "execution_count": 10,
   "id": "445fd0cc",
   "metadata": {},
   "outputs": [
    {
     "name": "stdout",
     "output_type": "stream",
     "text": [
      "1. Hello world\n",
      "2. Hello world\n",
      "3. Hello world\n",
      "we cannot divide number by zero\n",
      "4. Hello world\n",
      "5. Hello world\n"
     ]
    }
   ],
   "source": [
    "print(\"1. Hello world\")\n",
    "print(\"2. Hello world\")\n",
    "print(\"3. Hello world\")\n",
    "try:\n",
    "    \n",
    "    print(4/0)\n",
    "except:\n",
    "    print(\"we cannot divide number by zero\")\n",
    "print(\"4. Hello world\")\n",
    "print(\"5. Hello world\")"
   ]
  },
  {
   "cell_type": "code",
   "execution_count": null,
   "id": "3102a53b",
   "metadata": {},
   "outputs": [],
   "source": [
    "# solution no 8:"
   ]
  },
  {
   "cell_type": "code",
   "execution_count": 11,
   "id": "1b9d2f57",
   "metadata": {},
   "outputs": [
    {
     "ename": "SyntaxError",
     "evalue": "invalid syntax (2021067622.py, line 1)",
     "output_type": "error",
     "traceback": [
      "\u001b[1;36m  Cell \u001b[1;32mIn[11], line 1\u001b[1;36m\u001b[0m\n\u001b[1;33m    import.math\u001b[0m\n\u001b[1;37m          ^\u001b[0m\n\u001b[1;31mSyntaxError\u001b[0m\u001b[1;31m:\u001b[0m invalid syntax\n"
     ]
    }
   ],
   "source": [
    "import.math\n",
    "res=math.randint()          # main purpose to provide a guidance where you wrong.\n",
    "print(res)"
   ]
  },
  {
   "cell_type": "code",
   "execution_count": null,
   "id": "97c0f86b",
   "metadata": {},
   "outputs": [],
   "source": [
    "# solution no 9:"
   ]
  },
  {
   "cell_type": "code",
   "execution_count": 14,
   "id": "ae2cdf47",
   "metadata": {},
   "outputs": [
    {
     "name": "stdout",
     "output_type": "stream",
     "text": [
      "w\n",
      "cannot put the alphabet\n"
     ]
    }
   ],
   "source": [
    "try:\n",
    "    a=int(input())\n",
    "except ValueError as e:\n",
    "    print(\"cannot put the alphabet\")"
   ]
  },
  {
   "cell_type": "code",
   "execution_count": 13,
   "id": "7833e3da",
   "metadata": {},
   "outputs": [
    {
     "name": "stdout",
     "output_type": "stream",
     "text": [
      "w\n"
     ]
    },
    {
     "ename": "ValueError",
     "evalue": "invalid literal for int() with base 10: 'w'",
     "output_type": "error",
     "traceback": [
      "\u001b[1;31m---------------------------------------------------------------------------\u001b[0m",
      "\u001b[1;31mValueError\u001b[0m                                Traceback (most recent call last)",
      "Cell \u001b[1;32mIn[13], line 1\u001b[0m\n\u001b[1;32m----> 1\u001b[0m a\u001b[38;5;241m=\u001b[39m\u001b[38;5;28mint\u001b[39m(\u001b[38;5;28minput\u001b[39m())\n\u001b[0;32m      2\u001b[0m \u001b[38;5;28mprint\u001b[39m(a)\n",
      "\u001b[1;31mValueError\u001b[0m: invalid literal for int() with base 10: 'w'"
     ]
    }
   ],
   "source": [
    "a=int(input())\n",
    "print(a)\n"
   ]
  },
  {
   "cell_type": "code",
   "execution_count": null,
   "id": "e10d6a66",
   "metadata": {},
   "outputs": [],
   "source": [
    "# solution no 10:"
   ]
  },
  {
   "cell_type": "code",
   "execution_count": 31,
   "id": "6c14bf8b",
   "metadata": {},
   "outputs": [
    {
     "name": "stdout",
     "output_type": "stream",
     "text": [
      "you cannot add string and integer.\n"
     ]
    }
   ],
   "source": [
    "try:\n",
    "    2+\"2\"\n",
    "except IndexError as e:\n",
    "    print (\"trying to access the index which is not in the list..\")\n",
    "except TypeError as e:\n",
    "    print(\"you cannot add string and integer.\")"
   ]
  },
  {
   "cell_type": "code",
   "execution_count": null,
   "id": "8d7d75a2",
   "metadata": {},
   "outputs": [],
   "source": [
    "# solution no 11:"
   ]
  },
  {
   "cell_type": "code",
   "execution_count": 32,
   "id": "e8f873bf",
   "metadata": {},
   "outputs": [
    {
     "name": "stdout",
     "output_type": "stream",
     "text": [
      "cannot add string and integer\n",
      "file.close.\n"
     ]
    }
   ],
   "source": [
    "try:\n",
    "    2+\"2\"\n",
    "except:\n",
    "    print(\"cannot add string and integer\")\n",
    "else:\n",
    "    print(\"nothing went wrong\")\n",
    "finally:\n",
    "    print(\"file.close.\")"
   ]
  },
  {
   "cell_type": "code",
   "execution_count": null,
   "id": "ca0b00d7",
   "metadata": {},
   "outputs": [],
   "source": [
    "# solution no 12:"
   ]
  },
  {
   "cell_type": "markdown",
   "id": "bf9959e0",
   "metadata": {},
   "source": [
    "expect - it is used to handle exception"
   ]
  },
  {
   "cell_type": "code",
   "execution_count": null,
   "id": "f58555a1",
   "metadata": {},
   "outputs": [],
   "source": [
    "# solution no 13:"
   ]
  },
  {
   "cell_type": "markdown",
   "id": "2881cf44",
   "metadata": {},
   "source": [
    "Multi-dimensional arrays, also known as matrices, are a powerful data structure in Python. They allow you to store and manipulate data in multiple dimensions or axes"
   ]
  },
  {
   "cell_type": "code",
   "execution_count": null,
   "id": "8ef68108",
   "metadata": {},
   "outputs": [],
   "source": [
    "# solution no 14:"
   ]
  },
  {
   "cell_type": "code",
   "execution_count": null,
   "id": "7edc4a67",
   "metadata": {},
   "outputs": [],
   "source": [
    "!pip install numpy"
   ]
  },
  {
   "cell_type": "code",
   "execution_count": null,
   "id": "f72749dd",
   "metadata": {},
   "outputs": [],
   "source": [
    "# solution no 15:"
   ]
  },
  {
   "cell_type": "code",
   "execution_count": null,
   "id": "c04f39f2",
   "metadata": {},
   "outputs": [],
   "source": [
    "!pip uninstall numpy"
   ]
  },
  {
   "cell_type": "code",
   "execution_count": null,
   "id": "271df52d",
   "metadata": {},
   "outputs": [],
   "source": [
    "# solution no 16:"
   ]
  },
  {
   "cell_type": "code",
   "execution_count": 1,
   "id": "1fc1c72d",
   "metadata": {},
   "outputs": [
    {
     "name": "stdout",
     "output_type": "stream",
     "text": [
      "a\n"
     ]
    }
   ],
   "source": [
    "import numpy as np          # doubt\n",
    "arr=np.array(\"a\")            \n",
    "print(arr)"
   ]
  },
  {
   "cell_type": "code",
   "execution_count": 2,
   "id": "74340291",
   "metadata": {},
   "outputs": [
    {
     "ename": "ModuleNotFoundError",
     "evalue": "No module named 'mymodule'",
     "output_type": "error",
     "traceback": [
      "\u001b[1;31m---------------------------------------------------------------------------\u001b[0m",
      "\u001b[1;31mModuleNotFoundError\u001b[0m                       Traceback (most recent call last)",
      "Cell \u001b[1;32mIn[2], line 1\u001b[0m\n\u001b[1;32m----> 1\u001b[0m \u001b[38;5;28;01mimport\u001b[39;00m \u001b[38;5;21;01mmymodule\u001b[39;00m \u001b[38;5;28;01mas\u001b[39;00m \u001b[38;5;21;01mmx\u001b[39;00m\n\u001b[0;32m      3\u001b[0m a \u001b[38;5;241m=\u001b[39m mx\u001b[38;5;241m.\u001b[39mperson1[\u001b[38;5;124m\"\u001b[39m\u001b[38;5;124mage\u001b[39m\u001b[38;5;124m\"\u001b[39m]\n\u001b[0;32m      4\u001b[0m \u001b[38;5;28mprint\u001b[39m(a)\n",
      "\u001b[1;31mModuleNotFoundError\u001b[0m: No module named 'mymodule'"
     ]
    }
   ],
   "source": [
    "import mymodule as mx\n",
    "\n",
    "a = mx.person1[\"age\"]\n",
    "print(a)"
   ]
  },
  {
   "cell_type": "code",
   "execution_count": null,
   "id": "fe72e746",
   "metadata": {},
   "outputs": [],
   "source": [
    "# solution no 17:"
   ]
  },
  {
   "cell_type": "markdown",
   "id": "dc9c8dc8",
   "metadata": {},
   "source": [
    "*  NumPy can be used to perform a wide variety of mathematical operations on arrays."
   ]
  },
  {
   "cell_type": "code",
   "execution_count": null,
   "id": "2077e8e3",
   "metadata": {},
   "outputs": [],
   "source": [
    "# solution no 18:"
   ]
  },
  {
   "cell_type": "code",
   "execution_count": 8,
   "id": "4a799cb4",
   "metadata": {},
   "outputs": [
    {
     "name": "stdout",
     "output_type": "stream",
     "text": [
      "[1 2 3 4 5]\n"
     ]
    }
   ],
   "source": [
    "import numpy                       # difference between numpy and list\n",
    "res=numpy.array([1,2,3,4,5])\n",
    "print(res)                "
   ]
  },
  {
   "cell_type": "code",
   "execution_count": 7,
   "id": "acf725f7",
   "metadata": {},
   "outputs": [
    {
     "name": "stdout",
     "output_type": "stream",
     "text": [
      "[1, 2, 3, 4, 5]\n"
     ]
    }
   ],
   "source": [
    "a=[1,2,3,4,5]\n",
    "print(a)"
   ]
  },
  {
   "cell_type": "code",
   "execution_count": null,
   "id": "8abdeb39",
   "metadata": {},
   "outputs": [],
   "source": [
    "# solution no 19:"
   ]
  },
  {
   "cell_type": "code",
   "execution_count": 10,
   "id": "2cea03c5",
   "metadata": {},
   "outputs": [
    {
     "name": "stdout",
     "output_type": "stream",
     "text": [
      "1\n"
     ]
    }
   ],
   "source": [
    "import numpy \n",
    "res=numpy.array([1,2,3,4,5])\n",
    "print(res.ndim)"
   ]
  },
  {
   "cell_type": "code",
   "execution_count": null,
   "id": "7575d3fb",
   "metadata": {},
   "outputs": [],
   "source": [
    "# solution no 20:"
   ]
  },
  {
   "cell_type": "markdown",
   "id": "9ca60d31",
   "metadata": {},
   "source": [
    "* ndim is for to check the dimension of the array "
   ]
  },
  {
   "cell_type": "code",
   "execution_count": null,
   "id": "673d36f5",
   "metadata": {},
   "outputs": [],
   "source": [
    "# solution no 21:"
   ]
  },
  {
   "cell_type": "code",
   "execution_count": 11,
   "id": "98304108",
   "metadata": {},
   "outputs": [
    {
     "name": "stdout",
     "output_type": "stream",
     "text": [
      "[[1 2 3 4 5]\n",
      " [1 2 3 4 5]]\n"
     ]
    }
   ],
   "source": [
    "import numpy \n",
    "res=numpy.array([[1,2,3,4,5],[1,2,3,4,5]])\n",
    "print(res)"
   ]
  },
  {
   "cell_type": "code",
   "execution_count": 12,
   "id": "b47398bc",
   "metadata": {},
   "outputs": [
    {
     "name": "stdout",
     "output_type": "stream",
     "text": [
      "2\n"
     ]
    }
   ],
   "source": [
    "import numpy \n",
    "res=numpy.array([[1,2,3,4,5],[1,2,3,4,5]])\n",
    "print(res.ndim)"
   ]
  },
  {
   "cell_type": "code",
   "execution_count": null,
   "id": "0c73e29c",
   "metadata": {},
   "outputs": [],
   "source": [
    "# solution no 22:"
   ]
  },
  {
   "cell_type": "code",
   "execution_count": 14,
   "id": "ec3b983a",
   "metadata": {},
   "outputs": [
    {
     "name": "stdout",
     "output_type": "stream",
     "text": [
      "3\n"
     ]
    }
   ],
   "source": [
    "import numpy                # both are same .\n",
    "res=numpy.array(              \n",
    "    [\n",
    "    [1,2,3,4,5],\n",
    "    [1,2,3,4,5]\n",
    "    ]\n",
    ")\n",
    "print(res[0][2])"
   ]
  },
  {
   "cell_type": "code",
   "execution_count": 15,
   "id": "a3fb09c7",
   "metadata": {},
   "outputs": [
    {
     "name": "stdout",
     "output_type": "stream",
     "text": [
      "3\n"
     ]
    }
   ],
   "source": [
    "import numpy \n",
    "res=numpy.array(\n",
    "    [\n",
    "    [1,2,3,4,5],\n",
    "    [1,2,3,4,5]\n",
    "    ]\n",
    ")\n",
    "print(res[0,2])"
   ]
  },
  {
   "cell_type": "code",
   "execution_count": null,
   "id": "06e0f9b2",
   "metadata": {},
   "outputs": [],
   "source": [
    "# solution no 23:"
   ]
  },
  {
   "cell_type": "code",
   "execution_count": 16,
   "id": "1212f45b",
   "metadata": {},
   "outputs": [
    {
     "name": "stdout",
     "output_type": "stream",
     "text": [
      "[4 5 6 7]\n"
     ]
    }
   ],
   "source": [
    "import numpy as np\n",
    "arr=np.array([2,3,4,5])\n",
    "print(arr+2)"
   ]
  },
  {
   "cell_type": "code",
   "execution_count": 17,
   "id": "d25f19ef",
   "metadata": {},
   "outputs": [
    {
     "name": "stdout",
     "output_type": "stream",
     "text": [
      "[0 1 2 3]\n"
     ]
    }
   ],
   "source": [
    "import numpy as np\n",
    "arr=np.array([2,3,4,5])\n",
    "print(arr-2)"
   ]
  },
  {
   "cell_type": "code",
   "execution_count": 18,
   "id": "c8ba643c",
   "metadata": {},
   "outputs": [
    {
     "name": "stdout",
     "output_type": "stream",
     "text": [
      "[ 4  6  8 10]\n"
     ]
    }
   ],
   "source": [
    "import numpy as np\n",
    "arr=np.array([2,3,4,5])\n",
    "print(arr*2)"
   ]
  },
  {
   "cell_type": "code",
   "execution_count": 19,
   "id": "4d8500e0",
   "metadata": {},
   "outputs": [
    {
     "name": "stdout",
     "output_type": "stream",
     "text": [
      "[1.  1.5 2.  2.5]\n"
     ]
    }
   ],
   "source": [
    "import numpy as np\n",
    "arr=np.array([2,3,4,5])\n",
    "print(arr/2)"
   ]
  },
  {
   "cell_type": "code",
   "execution_count": 20,
   "id": "4c923a56",
   "metadata": {},
   "outputs": [
    {
     "name": "stdout",
     "output_type": "stream",
     "text": [
      "[1 1 2 2]\n"
     ]
    }
   ],
   "source": [
    "import numpy as np\n",
    "arr=np.array([2,3,4,5])\n",
    "print(arr//2)"
   ]
  },
  {
   "cell_type": "code",
   "execution_count": 21,
   "id": "ff4aed91",
   "metadata": {},
   "outputs": [
    {
     "name": "stdout",
     "output_type": "stream",
     "text": [
      "[0 1 0 1]\n"
     ]
    }
   ],
   "source": [
    "import numpy as np\n",
    "arr=np.array([2,3,4,5])\n",
    "print(arr%2)"
   ]
  },
  {
   "cell_type": "code",
   "execution_count": 22,
   "id": "f9e4d1ab",
   "metadata": {},
   "outputs": [
    {
     "name": "stdout",
     "output_type": "stream",
     "text": [
      "[ 4  9 16 25]\n"
     ]
    }
   ],
   "source": [
    "import numpy as np\n",
    "arr=np.array([2,3,4,5])\n",
    "print(arr**2)"
   ]
  },
  {
   "cell_type": "code",
   "execution_count": null,
   "id": "8df773fe",
   "metadata": {},
   "outputs": [],
   "source": [
    "# solution no 24:"
   ]
  },
  {
   "cell_type": "code",
   "execution_count": 23,
   "id": "ab1e75d4",
   "metadata": {},
   "outputs": [
    {
     "name": "stdout",
     "output_type": "stream",
     "text": [
      "14\n"
     ]
    }
   ],
   "source": [
    "import numpy as np\n",
    "arr=np.sum([2,3,4,5])\n",
    "print(arr)"
   ]
  },
  {
   "cell_type": "code",
   "execution_count": 24,
   "id": "16c96353",
   "metadata": {},
   "outputs": [
    {
     "name": "stdout",
     "output_type": "stream",
     "text": [
      "5\n"
     ]
    }
   ],
   "source": [
    "import numpy as np\n",
    "arr=np.max([2,3,4,5])\n",
    "print(arr)"
   ]
  },
  {
   "cell_type": "code",
   "execution_count": 25,
   "id": "aac95fc4",
   "metadata": {},
   "outputs": [
    {
     "name": "stdout",
     "output_type": "stream",
     "text": [
      "2\n"
     ]
    }
   ],
   "source": [
    "import numpy as np\n",
    "arr=np.min([2,3,4,5])\n",
    "print(arr)"
   ]
  },
  {
   "cell_type": "code",
   "execution_count": 26,
   "id": "ec1eb93b",
   "metadata": {},
   "outputs": [
    {
     "name": "stdout",
     "output_type": "stream",
     "text": [
      "3.5\n"
     ]
    }
   ],
   "source": [
    "import numpy as np\n",
    "arr=np.mean([2,3,4,5])\n",
    "print(arr)"
   ]
  },
  {
   "cell_type": "code",
   "execution_count": 28,
   "id": "3484fb1a",
   "metadata": {},
   "outputs": [
    {
     "name": "stdout",
     "output_type": "stream",
     "text": [
      "3.5\n"
     ]
    }
   ],
   "source": [
    "import numpy as np\n",
    "arr=np.median([2,3,4,5])\n",
    "print(arr)"
   ]
  },
  {
   "cell_type": "code",
   "execution_count": null,
   "id": "744369a4",
   "metadata": {},
   "outputs": [],
   "source": [
    "# solution no 25:"
   ]
  },
  {
   "cell_type": "code",
   "execution_count": 30,
   "id": "e2500ab9",
   "metadata": {},
   "outputs": [
    {
     "name": "stdout",
     "output_type": "stream",
     "text": [
      "[[ 5.          6.          7.          8.          9.        ]\n",
      " [10.          8.1240384   7.41619849  6.63324958  5.74456265]]\n"
     ]
    }
   ],
   "source": [
    "import numpy\n",
    "arr=numpy.array(\n",
    "   [\n",
    "       [25,36,49,64,81],\n",
    "     [100,66,55,44,33]\n",
    "   ]\n",
    ")\n",
    "print(np.sqrt(arr))"
   ]
  },
  {
   "cell_type": "code",
   "execution_count": null,
   "id": "3ea3be4d",
   "metadata": {},
   "outputs": [],
   "source": [
    "# solution no 26:"
   ]
  },
  {
   "cell_type": "code",
   "execution_count": 31,
   "id": "b4a13fce",
   "metadata": {},
   "outputs": [
    {
     "name": "stdout",
     "output_type": "stream",
     "text": [
      "[12 11 10]\n"
     ]
    }
   ],
   "source": [
    "import numpy\n",
    "arr=numpy.array(\n",
    "   [ \n",
    "     [12,11,10,3,2],\n",
    "     [5,4,6,7,2]\n",
    "   ]\n",
    ")\n",
    "print(arr[arr>=10])"
   ]
  },
  {
   "cell_type": "code",
   "execution_count": null,
   "id": "4b640271",
   "metadata": {},
   "outputs": [],
   "source": [
    "# solution no 27:"
   ]
  },
  {
   "cell_type": "code",
   "execution_count": 32,
   "id": "308f488c",
   "metadata": {},
   "outputs": [
    {
     "name": "stdout",
     "output_type": "stream",
     "text": [
      "[[ 12  11  10   3   2]\n",
      " [  5   4   6   7   2]\n",
      " [ 25  36  49  64  81]\n",
      " [100  66  55  44  33]]\n"
     ]
    }
   ],
   "source": [
    "import numpy as np\n",
    "\n",
    "arr1=np.array(\n",
    "   [ \n",
    "     [12,11,10,3,2],\n",
    "     [5,4,6,7,2]\n",
    "   ]\n",
    ")\n",
    "arr2=np.array(\n",
    "   [\n",
    "       [25,36,49,64,81],\n",
    "     [100,66,55,44,33]\n",
    "   ]\n",
    ")\n",
    "print(np.concatenate((arr1,arr2)))"
   ]
  },
  {
   "cell_type": "code",
   "execution_count": null,
   "id": "05919017",
   "metadata": {},
   "outputs": [],
   "source": [
    "# solution no 28:"
   ]
  },
  {
   "cell_type": "code",
   "execution_count": 33,
   "id": "ce5abd4e",
   "metadata": {},
   "outputs": [
    {
     "name": "stdout",
     "output_type": "stream",
     "text": [
      "2\n"
     ]
    }
   ],
   "source": [
    "import numpy\n",
    "arr=numpy.array(\n",
    "   [ \n",
    "     [12,11,10,3,2],\n",
    "     [5,4,6,7,2]\n",
    "   ]\n",
    ")\n",
    "res=np.reshape(arr,(2,5))\n",
    "print(res.ndim)"
   ]
  },
  {
   "cell_type": "code",
   "execution_count": null,
   "id": "1004b193",
   "metadata": {},
   "outputs": [],
   "source": [
    "# solution no 29:"
   ]
  },
  {
   "cell_type": "code",
   "execution_count": 34,
   "id": "c3c6c481",
   "metadata": {},
   "outputs": [
    {
     "name": "stdout",
     "output_type": "stream",
     "text": [
      "[[12]\n",
      " [11]\n",
      " [10]\n",
      " [ 3]\n",
      " [ 2]\n",
      " [ 5]\n",
      " [ 4]\n",
      " [ 6]\n",
      " [ 7]\n",
      " [ 2]]\n"
     ]
    }
   ],
   "source": [
    "import numpy as np\n",
    "\n",
    "arr=np.array(\n",
    "   [ \n",
    "     [12,11,10,3,2],\n",
    "     [5,4,6,7,2]\n",
    "   ]\n",
    ")\n",
    "print(np.reshape(arr,(10,1)))"
   ]
  },
  {
   "cell_type": "code",
   "execution_count": null,
   "id": "ba04e47a",
   "metadata": {},
   "outputs": [],
   "source": [
    "# solution no 30:"
   ]
  },
  {
   "cell_type": "code",
   "execution_count": 36,
   "id": "e3732958",
   "metadata": {},
   "outputs": [
    {
     "name": "stdout",
     "output_type": "stream",
     "text": [
      "5\n"
     ]
    }
   ],
   "source": [
    "import numpy as np\n",
    "arr=np.array(\n",
    "        [\n",
    "         [1,2,3,4,5],\n",
    "         [6,9,8,2,7]\n",
    "        ]\n",
    ")\n",
    "print(arr[0,4])"
   ]
  },
  {
   "cell_type": "code",
   "execution_count": null,
   "id": "c502dc4c",
   "metadata": {},
   "outputs": [],
   "source": [
    "# solution no 31:"
   ]
  },
  {
   "cell_type": "code",
   "execution_count": 37,
   "id": "fb766913",
   "metadata": {},
   "outputs": [
    {
     "name": "stdout",
     "output_type": "stream",
     "text": [
      "(2, 5)\n"
     ]
    }
   ],
   "source": [
    "import numpy as np                 # shape is not function.\n",
    "                                   # shape is the attribute.\n",
    "                                   # shape is used for to know the (row*column)\n",
    "                                \n",
    "arr=np.array(\n",
    "   [ \n",
    "     [12,11,10,3,2],\n",
    "     [5,4,6,7,2]\n",
    "   ]\n",
    ")\n",
    "print(arr.shape)"
   ]
  },
  {
   "cell_type": "code",
   "execution_count": null,
   "id": "a112753c",
   "metadata": {},
   "outputs": [],
   "source": [
    "# solution no 32:"
   ]
  },
  {
   "cell_type": "code",
   "execution_count": 38,
   "id": "00a6475b",
   "metadata": {},
   "outputs": [
    {
     "name": "stdout",
     "output_type": "stream",
     "text": [
      "2\n"
     ]
    }
   ],
   "source": [
    "import numpy as np                     # ndim is used for to know the dimention of the array \n",
    "                                       # but shape is the for the to know the row or column.\n",
    "arr=np.array(\n",
    "        [\n",
    "         [1,2,3,4,5],\n",
    "         [6,9,8,2,7]\n",
    "        ]\n",
    ")\n",
    "print(arr.ndim)"
   ]
  },
  {
   "cell_type": "code",
   "execution_count": 39,
   "id": "97f547db",
   "metadata": {},
   "outputs": [
    {
     "name": "stdout",
     "output_type": "stream",
     "text": [
      "(2, 5)\n"
     ]
    }
   ],
   "source": [
    "import numpy as np\n",
    "arr=np.array(\n",
    "        [\n",
    "         [1,2,3,4,5],\n",
    "         [6,9,8,2,7]\n",
    "        ]\n",
    ")\n",
    "print(arr.shape)"
   ]
  },
  {
   "cell_type": "code",
   "execution_count": null,
   "id": "5b10e021",
   "metadata": {},
   "outputs": [],
   "source": [
    "# solution no 33:"
   ]
  },
  {
   "cell_type": "code",
   "execution_count": 40,
   "id": "ee9ac3e3",
   "metadata": {},
   "outputs": [
    {
     "data": {
      "image/png": "[encoded data removed]",
      "text/plain": [
       "<Figure size 640x480 with 1 Axes>"
      ]
     },
     "metadata": {},
     "output_type": "display_data"
    }
   ],
   "source": [
    "import matplotlib.pyplot as plt\n",
    "import numpy as np\n",
    "\n",
    "expenses =np.array ([100,100,100])\n",
    "categories = [\"bhart\",\"mata\",\"ki jai\"]\n",
    "color=[\"orange\",\"white\",\"green\"]\n",
    "plt.pie(expenses, labels=categories,colors=color)\n",
    "plt.show()"
   ]
  },
  {
   "cell_type": "code",
   "execution_count": null,
   "id": "ba52922c",
   "metadata": {},
   "outputs": [],
   "source": [
    "# solution no 34:"
   ]
  },
  {
   "cell_type": "markdown",
   "id": "ecc4b097",
   "metadata": {},
   "source": [
    "* labels shows what is shows by the pie.\n",
    "* color shows those catogories how much they are used."
   ]
  },
  {
   "cell_type": "code",
   "execution_count": null,
   "id": "3e1714ee",
   "metadata": {},
   "outputs": [],
   "source": [
    "# solution no 35:"
   ]
  },
  {
   "cell_type": "code",
   "execution_count": 42,
   "id": "2d5411e6",
   "metadata": {},
   "outputs": [
    {
     "name": "stdout",
     "output_type": "stream",
     "text": [
      "13\n"
     ]
    }
   ],
   "source": [
    "import numpy as np\n",
    "arr=np.array(\n",
    "        [[\n",
    "         [1,2,3,4,5],\n",
    "         [6,9,8,2,7]\n",
    "        ],\n",
    "        [\n",
    "         [11,12,13,24,25],\n",
    "         [69,96,85,24,17]\n",
    "        ]]\n",
    ")\n",
    "print(arr[1,0,2])"
   ]
  }
 ],
 "metadata": {
  "kernelspec": {
   "display_name": "Python 3 (ipykernel)",
   "language": "python",
   "name": "python3"
  },
  "language_info": {
   "codemirror_mode": {
    "name": "ipython",
    "version": 3
   },
   "file_extension": ".py",
   "mimetype": "text/x-python",
   "name": "python",
   "nbconvert_exporter": "python",
   "pygments_lexer": "ipython3",
   "version": "3.11.3"
  }
 },
 "nbformat": 4,
 "nbformat_minor": 5
}
