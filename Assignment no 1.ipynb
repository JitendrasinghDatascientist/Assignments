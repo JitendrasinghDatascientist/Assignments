{
 "cells": [
  {
   "cell_type": "code",
   "execution_count": null,
   "id": "b88c039b",
   "metadata": {},
   "outputs": [],
   "source": [
    "# Assignment no 1:"
   ]
  },
  {
   "cell_type": "code",
   "execution_count": null,
   "id": "0291aac8",
   "metadata": {},
   "outputs": [],
   "source": [
    "# solution no 1:"
   ]
  },
  {
   "cell_type": "code",
   "execution_count": 1,
   "id": "aa95f158",
   "metadata": {},
   "outputs": [
    {
     "name": "stdout",
     "output_type": "stream",
     "text": [
      "8\n"
     ]
    }
   ],
   "source": [
    "a= 5\n",
    "b =3\n",
    "print(a+b)"
   ]
  },
  {
   "cell_type": "code",
   "execution_count": 2,
   "id": "7e7d3966",
   "metadata": {},
   "outputs": [
    {
     "name": "stdout",
     "output_type": "stream",
     "text": [
      "enter the value of a: 5\n",
      "enter the value of b: 3\n",
      "8\n"
     ]
    }
   ],
   "source": [
    "a= int(input(\"enter the value of a: \"))\n",
    "b= int(input(\"enter the value of b: \"))\n",
    "print(a+b)"
   ]
  },
  {
   "cell_type": "code",
   "execution_count": null,
   "id": "9e271c78",
   "metadata": {},
   "outputs": [],
   "source": [
    "# solution no 2:"
   ]
  },
  {
   "cell_type": "code",
   "execution_count": 3,
   "id": "36b7cda5",
   "metadata": {},
   "outputs": [
    {
     "name": "stdout",
     "output_type": "stream",
     "text": [
      "6\n"
     ]
    }
   ],
   "source": [
    "a=10\n",
    "b=4\n",
    "print(a-b)"
   ]
  },
  {
   "cell_type": "code",
   "execution_count": 4,
   "id": "a2dc8ef6",
   "metadata": {},
   "outputs": [
    {
     "name": "stdout",
     "output_type": "stream",
     "text": [
      "enter the value of a: 10\n",
      "enter the value of b: 4\n",
      "6\n"
     ]
    }
   ],
   "source": [
    "a= int(input(\"enter the value of a: \"))\n",
    "b= int(input(\"enter the value of b: \"))\n",
    "print(a-b)"
   ]
  },
  {
   "cell_type": "code",
   "execution_count": null,
   "id": "a8ccd8c1",
   "metadata": {},
   "outputs": [],
   "source": [
    "# solution no 3:"
   ]
  },
  {
   "cell_type": "code",
   "execution_count": 5,
   "id": "ad1bf95b",
   "metadata": {},
   "outputs": [
    {
     "name": "stdout",
     "output_type": "stream",
     "text": [
      "42\n"
     ]
    }
   ],
   "source": [
    "a=6\n",
    "b=7\n",
    "print(a*b)"
   ]
  },
  {
   "cell_type": "code",
   "execution_count": 6,
   "id": "57349533",
   "metadata": {},
   "outputs": [
    {
     "name": "stdout",
     "output_type": "stream",
     "text": [
      "enter the value of a: 6\n",
      "enter the value of b: 7\n",
      "42\n"
     ]
    }
   ],
   "source": [
    "a= int(input(\"enter the value of a: \"))\n",
    "b= int(input(\"enter the value of b: \"))\n",
    "print(a*b)"
   ]
  },
  {
   "cell_type": "code",
   "execution_count": null,
   "id": "faed6ef5",
   "metadata": {},
   "outputs": [],
   "source": [
    "# solution no 4:"
   ]
  },
  {
   "cell_type": "code",
   "execution_count": 7,
   "id": "74997bbe",
   "metadata": {},
   "outputs": [
    {
     "name": "stdout",
     "output_type": "stream",
     "text": [
      "5.0\n"
     ]
    }
   ],
   "source": [
    "a=15\n",
    "b=3\n",
    "print(a/b)"
   ]
  },
  {
   "cell_type": "code",
   "execution_count": 8,
   "id": "23cad95c",
   "metadata": {},
   "outputs": [
    {
     "name": "stdout",
     "output_type": "stream",
     "text": [
      "enter the value of a: 15\n",
      "enter the value of b: 3\n",
      "the value is: 5.0\n"
     ]
    }
   ],
   "source": [
    "a= int(input(\"enter the value of a: \"))\n",
    "b= int(input(\"enter the value of b: \"))\n",
    "print(\"the value is:\",a/b)"
   ]
  },
  {
   "cell_type": "code",
   "execution_count": null,
   "id": "7e95faab",
   "metadata": {},
   "outputs": [],
   "source": [
    "# solution no 5:"
   ]
  },
  {
   "cell_type": "code",
   "execution_count": 9,
   "id": "84c1c0ca",
   "metadata": {},
   "outputs": [
    {
     "name": "stdout",
     "output_type": "stream",
     "text": [
      "3\n"
     ]
    }
   ],
   "source": [
    "a=10\n",
    "b=3\n",
    "print(a//b)"
   ]
  },
  {
   "cell_type": "code",
   "execution_count": 10,
   "id": "45dcd2cd",
   "metadata": {},
   "outputs": [
    {
     "name": "stdout",
     "output_type": "stream",
     "text": [
      "enter the value of a: 10\n",
      "enter the value of b: 3\n",
      "the value is: 3\n"
     ]
    }
   ],
   "source": [
    "a= int(input(\"enter the value of a: \"))\n",
    "b= int(input(\"enter the value of b: \"))\n",
    "print(\"the value is:\",a//b)"
   ]
  },
  {
   "cell_type": "code",
   "execution_count": null,
   "id": "beacf278",
   "metadata": {},
   "outputs": [],
   "source": [
    "# solution no 6:"
   ]
  },
  {
   "cell_type": "code",
   "execution_count": 11,
   "id": "bafdd1e6",
   "metadata": {},
   "outputs": [
    {
     "name": "stdout",
     "output_type": "stream",
     "text": [
      "2\n"
     ]
    }
   ],
   "source": [
    "a=12\n",
    "b=5\n",
    "print(a%b)"
   ]
  },
  {
   "cell_type": "code",
   "execution_count": 12,
   "id": "c068ddd9",
   "metadata": {},
   "outputs": [
    {
     "name": "stdout",
     "output_type": "stream",
     "text": [
      "enter the value of a: 12\n",
      "enter the value of b: 5\n",
      "the value is: 2\n"
     ]
    }
   ],
   "source": [
    "a= int(input(\"enter the value of a: \"))\n",
    "b= int(input(\"enter the value of b: \"))\n",
    "print(\"the value is:\",a%b)"
   ]
  },
  {
   "cell_type": "code",
   "execution_count": null,
   "id": "cc2238e8",
   "metadata": {},
   "outputs": [],
   "source": [
    "# solution no 7:"
   ]
  },
  {
   "cell_type": "code",
   "execution_count": 14,
   "id": "9d265a15",
   "metadata": {},
   "outputs": [
    {
     "name": "stdout",
     "output_type": "stream",
     "text": [
      "16\n"
     ]
    }
   ],
   "source": [
    "a=2\n",
    "b=4\n",
    "print(a**b)"
   ]
  },
  {
   "cell_type": "code",
   "execution_count": 13,
   "id": "ccb5a820",
   "metadata": {},
   "outputs": [
    {
     "name": "stdout",
     "output_type": "stream",
     "text": [
      "enter the value of a: 2\n",
      "enter the value of b: 4\n",
      "the value is: 16\n"
     ]
    }
   ],
   "source": [
    "a= int(input(\"enter the value of a: \"))\n",
    "b= int(input(\"enter the value of b: \"))\n",
    "print(\"the value is:\",a**b)"
   ]
  },
  {
   "cell_type": "code",
   "execution_count": null,
   "id": "54c3a189",
   "metadata": {},
   "outputs": [],
   "source": [
    "# solution no 8:"
   ]
  },
  {
   "cell_type": "code",
   "execution_count": 15,
   "id": "dcf425c1",
   "metadata": {},
   "outputs": [
    {
     "name": "stdout",
     "output_type": "stream",
     "text": [
      "11\n"
     ]
    }
   ],
   "source": [
    "a=5\n",
    "b=3\n",
    "print(a+b*2)"
   ]
  },
  {
   "cell_type": "code",
   "execution_count": 16,
   "id": "2ee437e3",
   "metadata": {},
   "outputs": [
    {
     "name": "stdout",
     "output_type": "stream",
     "text": [
      "enter the value of a: 5\n",
      "enter the value of b: 3\n",
      "the value is: 11\n"
     ]
    }
   ],
   "source": [
    "a= int(input(\"enter the value of a: \"))\n",
    "b= int(input(\"enter the value of b: \"))\n",
    "print(\"the value is:\",a+b*2)"
   ]
  },
  {
   "cell_type": "code",
   "execution_count": null,
   "id": "cd84fd3b",
   "metadata": {},
   "outputs": [],
   "source": [
    "# solution no 9:"
   ]
  },
  {
   "cell_type": "code",
   "execution_count": 17,
   "id": "74698f21",
   "metadata": {},
   "outputs": [
    {
     "name": "stdout",
     "output_type": "stream",
     "text": [
      "True\n"
     ]
    }
   ],
   "source": [
    "a=7\n",
    "b=5\n",
    "print(a>b)"
   ]
  },
  {
   "cell_type": "code",
   "execution_count": 18,
   "id": "a3364926",
   "metadata": {},
   "outputs": [
    {
     "name": "stdout",
     "output_type": "stream",
     "text": [
      "enter the value of a: 7\n",
      "enter the value of b: 5\n",
      "the value is: True\n"
     ]
    }
   ],
   "source": [
    "a= int(input(\"enter the value of a: \"))\n",
    "b= int(input(\"enter the value of b: \"))\n",
    "print(\"the value is:\",a>b)"
   ]
  },
  {
   "cell_type": "code",
   "execution_count": null,
   "id": "eb9a1e59",
   "metadata": {},
   "outputs": [],
   "source": [
    "# solution no 10:"
   ]
  },
  {
   "cell_type": "code",
   "execution_count": 19,
   "id": "c7188bfa",
   "metadata": {},
   "outputs": [
    {
     "name": "stdout",
     "output_type": "stream",
     "text": [
      "False\n"
     ]
    }
   ],
   "source": [
    "a=10\n",
    "b=5\n",
    "print(a<b)"
   ]
  },
  {
   "cell_type": "code",
   "execution_count": 20,
   "id": "72db8744",
   "metadata": {},
   "outputs": [
    {
     "name": "stdout",
     "output_type": "stream",
     "text": [
      "enter the value of a: 10\n",
      "enter the value of b: 5\n",
      "the value is: False\n"
     ]
    }
   ],
   "source": [
    "a= int(input(\"enter the value of a: \"))\n",
    "b= int(input(\"enter the value of b: \"))\n",
    "print(\"the value is:\",a<b)"
   ]
  },
  {
   "cell_type": "code",
   "execution_count": null,
   "id": "d1873f1a",
   "metadata": {},
   "outputs": [],
   "source": [
    "# solution no 11:"
   ]
  },
  {
   "cell_type": "code",
   "execution_count": 21,
   "id": "d53673a9",
   "metadata": {},
   "outputs": [
    {
     "name": "stdout",
     "output_type": "stream",
     "text": [
      "True\n"
     ]
    }
   ],
   "source": [
    "a=8\n",
    "b=8\n",
    "print(a>=b)"
   ]
  },
  {
   "cell_type": "code",
   "execution_count": 22,
   "id": "48362369",
   "metadata": {},
   "outputs": [
    {
     "name": "stdout",
     "output_type": "stream",
     "text": [
      "enter the value of a: 8\n",
      "enter the value of b: 8\n",
      "the value is: True\n"
     ]
    }
   ],
   "source": [
    "a= int(input(\"enter the value of a: \"))\n",
    "b= int(input(\"enter the value of b: \"))\n",
    "print(\"the value is:\",a>=b)"
   ]
  },
  {
   "cell_type": "code",
   "execution_count": null,
   "id": "88cadee7",
   "metadata": {},
   "outputs": [],
   "source": [
    "# solution no 12:"
   ]
  },
  {
   "cell_type": "code",
   "execution_count": 23,
   "id": "b832cb7f",
   "metadata": {},
   "outputs": [
    {
     "name": "stdout",
     "output_type": "stream",
     "text": [
      "True\n"
     ]
    }
   ],
   "source": [
    "a=6\n",
    "b=6\n",
    "print(a==b)"
   ]
  },
  {
   "cell_type": "code",
   "execution_count": 24,
   "id": "db198159",
   "metadata": {},
   "outputs": [
    {
     "name": "stdout",
     "output_type": "stream",
     "text": [
      "enter the value of a: 6\n",
      "enter the value of b: 6\n",
      "the value is: True\n"
     ]
    }
   ],
   "source": [
    "a= int(input(\"enter the value of a: \"))\n",
    "b= int(input(\"enter the value of b: \"))\n",
    "print(\"the value is:\",a==b)"
   ]
  },
  {
   "cell_type": "code",
   "execution_count": null,
   "id": "708f842a",
   "metadata": {},
   "outputs": [],
   "source": [
    "# solution no 13:"
   ]
  },
  {
   "cell_type": "code",
   "execution_count": 25,
   "id": "0cf06064",
   "metadata": {},
   "outputs": [
    {
     "name": "stdout",
     "output_type": "stream",
     "text": [
      "False\n"
     ]
    }
   ],
   "source": [
    "a=3\n",
    "b=3\n",
    "print(a!=b)"
   ]
  },
  {
   "cell_type": "code",
   "execution_count": 26,
   "id": "719702ed",
   "metadata": {},
   "outputs": [
    {
     "name": "stdout",
     "output_type": "stream",
     "text": [
      "enter the value of a: 3\n",
      "enter the value of b: 3\n",
      "the value is: False\n"
     ]
    }
   ],
   "source": [
    "a= int(input(\"enter the value of a: \"))\n",
    "b= int(input(\"enter the value of b: \"))\n",
    "print(\"the value is:\",a!=b)"
   ]
  },
  {
   "cell_type": "code",
   "execution_count": null,
   "id": "de1de688",
   "metadata": {},
   "outputs": [],
   "source": [
    "# solution no 14:"
   ]
  },
  {
   "cell_type": "code",
   "execution_count": 29,
   "id": "34219ad3",
   "metadata": {},
   "outputs": [
    {
     "name": "stdout",
     "output_type": "stream",
     "text": [
      "True\n"
     ]
    }
   ],
   "source": [
    "a=10\n",
    "b=5\n",
    "print(a>b or a<b )"
   ]
  },
  {
   "cell_type": "code",
   "execution_count": 30,
   "id": "258911be",
   "metadata": {},
   "outputs": [
    {
     "name": "stdout",
     "output_type": "stream",
     "text": [
      "enter the value of a: 10\n",
      "enter the value of b: 5\n",
      "the value is: True\n"
     ]
    }
   ],
   "source": [
    "a= int(input(\"enter the value of a: \"))\n",
    "b= int(input(\"enter the value of b: \"))\n",
    "print(\"the value is:\",a>b or a<b)"
   ]
  },
  {
   "cell_type": "code",
   "execution_count": null,
   "id": "f680e5c3",
   "metadata": {},
   "outputs": [],
   "source": [
    "# solution no 15:"
   ]
  },
  {
   "cell_type": "code",
   "execution_count": 31,
   "id": "524f5a4b",
   "metadata": {},
   "outputs": [
    {
     "name": "stdout",
     "output_type": "stream",
     "text": [
      "True\n"
     ]
    }
   ],
   "source": [
    "a=\"hello\"\n",
    "b=\"hello\"\n",
    "print(\"hello\" == \"hello\" )"
   ]
  },
  {
   "cell_type": "code",
   "execution_count": null,
   "id": "cca753f8",
   "metadata": {},
   "outputs": [],
   "source": [
    "# solution no 16:"
   ]
  },
  {
   "cell_type": "code",
   "execution_count": 1,
   "id": "31ec68e2",
   "metadata": {},
   "outputs": [
    {
     "name": "stdout",
     "output_type": "stream",
     "text": [
      "False\n"
     ]
    }
   ],
   "source": [
    "print(True and False)"
   ]
  },
  {
   "cell_type": "code",
   "execution_count": null,
   "id": "4df263c7",
   "metadata": {},
   "outputs": [],
   "source": [
    "# solution no 17:"
   ]
  },
  {
   "cell_type": "code",
   "execution_count": 2,
   "id": "9327dc86",
   "metadata": {},
   "outputs": [
    {
     "name": "stdout",
     "output_type": "stream",
     "text": [
      "False\n"
     ]
    }
   ],
   "source": [
    "name=True\n",
    "print(not name)"
   ]
  },
  {
   "cell_type": "code",
   "execution_count": 3,
   "id": "8b1a0be0",
   "metadata": {},
   "outputs": [
    {
     "name": "stdout",
     "output_type": "stream",
     "text": [
      "True\n"
     ]
    }
   ],
   "source": [
    "name=False\n",
    "print(not name)"
   ]
  },
  {
   "cell_type": "code",
   "execution_count": null,
   "id": "ec2e26a5",
   "metadata": {},
   "outputs": [],
   "source": [
    "# solution no 18:"
   ]
  },
  {
   "cell_type": "code",
   "execution_count": 43,
   "id": "ca3c4edd",
   "metadata": {},
   "outputs": [
    {
     "name": "stdout",
     "output_type": "stream",
     "text": [
      "False\n"
     ]
    }
   ],
   "source": [
    "name=1\n",
    "print(not name)"
   ]
  },
  {
   "cell_type": "code",
   "execution_count": null,
   "id": "1658f382",
   "metadata": {},
   "outputs": [],
   "source": [
    "# solution no 19:"
   ]
  },
  {
   "cell_type": "code",
   "execution_count": 39,
   "id": "b7a96ca9",
   "metadata": {},
   "outputs": [
    {
     "name": "stdout",
     "output_type": "stream",
     "text": [
      "True\n"
     ]
    }
   ],
   "source": [
    "a= \"10>5\"\n",
    "b=\"5<2\"\n",
    "print(a==\"10>5\" and b==\"5<2\")"
   ]
  },
  {
   "cell_type": "code",
   "execution_count": 40,
   "id": "4690e633",
   "metadata": {},
   "outputs": [
    {
     "name": "stdout",
     "output_type": "stream",
     "text": [
      "False\n"
     ]
    }
   ],
   "source": [
    "a=10>5\n",
    "b=5<2\n",
    "print(a==10>5 and b==5<2)"
   ]
  },
  {
   "cell_type": "code",
   "execution_count": null,
   "id": "25a2d915",
   "metadata": {},
   "outputs": [],
   "source": [
    "# solution no 20:"
   ]
  },
  {
   "cell_type": "code",
   "execution_count": 38,
   "id": "933d0fff",
   "metadata": {},
   "outputs": [
    {
     "name": "stdout",
     "output_type": "stream",
     "text": [
      "True\n"
     ]
    }
   ],
   "source": [
    "a=(3==3)\n",
    "b=(4!=4)\n",
    "print(a==(3==3) or b==(4!=4))"
   ]
  },
  {
   "cell_type": "code",
   "execution_count": null,
   "id": "a24579c0",
   "metadata": {},
   "outputs": [],
   "source": [
    "# solution no 21:"
   ]
  },
  {
   "cell_type": "code",
   "execution_count": 1,
   "id": "4e7fc316",
   "metadata": {},
   "outputs": [
    {
     "name": "stdout",
     "output_type": "stream",
     "text": [
      "10\n"
     ]
    }
   ],
   "source": [
    "x= 10\n",
    "print(x)"
   ]
  },
  {
   "cell_type": "code",
   "execution_count": null,
   "id": "c2a8f8be",
   "metadata": {},
   "outputs": [],
   "source": [
    "# solution no 22:"
   ]
  },
  {
   "cell_type": "code",
   "execution_count": 2,
   "id": "0064c59e",
   "metadata": {},
   "outputs": [
    {
     "name": "stdout",
     "output_type": "stream",
     "text": [
      "23\n"
     ]
    }
   ],
   "source": [
    "x=20\n",
    "x=x+3\n",
    "print(x)"
   ]
  },
  {
   "cell_type": "code",
   "execution_count": null,
   "id": "fd1474e1",
   "metadata": {},
   "outputs": [],
   "source": [
    "# solution no 23:"
   ]
  },
  {
   "cell_type": "code",
   "execution_count": 3,
   "id": "c340f393",
   "metadata": {},
   "outputs": [
    {
     "name": "stdout",
     "output_type": "stream",
     "text": [
      "15\n"
     ]
    }
   ],
   "source": [
    "x=20\n",
    "x=x-5\n",
    "print(x)"
   ]
  },
  {
   "cell_type": "code",
   "execution_count": null,
   "id": "7fad095b",
   "metadata": {},
   "outputs": [],
   "source": [
    "# solution no 24:"
   ]
  },
  {
   "cell_type": "code",
   "execution_count": 4,
   "id": "257d8c79",
   "metadata": {},
   "outputs": [
    {
     "name": "stdout",
     "output_type": "stream",
     "text": [
      "40\n"
     ]
    }
   ],
   "source": [
    "x=20\n",
    "x=x*2\n",
    "print(x)"
   ]
  },
  {
   "cell_type": "code",
   "execution_count": null,
   "id": "de62f5d2",
   "metadata": {},
   "outputs": [],
   "source": [
    "# solution no 25:"
   ]
  },
  {
   "cell_type": "code",
   "execution_count": 5,
   "id": "a5577bf0",
   "metadata": {},
   "outputs": [
    {
     "name": "stdout",
     "output_type": "stream",
     "text": [
      "the value is: 5.0\n"
     ]
    }
   ],
   "source": [
    "x=20\n",
    "x=x/4\n",
    "print(\"the value is:\",x)"
   ]
  },
  {
   "cell_type": "code",
   "execution_count": null,
   "id": "098ab214",
   "metadata": {},
   "outputs": [],
   "source": [
    "# solution no 26:"
   ]
  },
  {
   "cell_type": "code",
   "execution_count": 6,
   "id": "3dbd23ef",
   "metadata": {},
   "outputs": [
    {
     "name": "stdout",
     "output_type": "stream",
     "text": [
      "the value is: 2\n"
     ]
    }
   ],
   "source": [
    "x=20\n",
    "x=x%3\n",
    "print(\"the value is:\",x)"
   ]
  },
  {
   "cell_type": "code",
   "execution_count": null,
   "id": "53a29a9e",
   "metadata": {},
   "outputs": [],
   "source": [
    "# solution no 27:"
   ]
  },
  {
   "cell_type": "code",
   "execution_count": 7,
   "id": "5dae1116",
   "metadata": {},
   "outputs": [
    {
     "name": "stdout",
     "output_type": "stream",
     "text": [
      "the value is: 400\n"
     ]
    }
   ],
   "source": [
    "x=20\n",
    "x=x**2\n",
    "print(\"the value is:\",x)"
   ]
  },
  {
   "cell_type": "code",
   "execution_count": null,
   "id": "fc9458d4",
   "metadata": {},
   "outputs": [],
   "source": [
    "# solution no 34:"
   ]
  },
  {
   "cell_type": "code",
   "execution_count": 8,
   "id": "9eeb8af4",
   "metadata": {},
   "outputs": [
    {
     "name": "stdout",
     "output_type": "stream",
     "text": [
      "True\n"
     ]
    }
   ],
   "source": [
    "a=[1,2,3,4,5]\n",
    "res= 3 in a\n",
    "print(res)"
   ]
  },
  {
   "cell_type": "code",
   "execution_count": null,
   "id": "8da25d76",
   "metadata": {},
   "outputs": [],
   "source": [
    "# solution no 35:"
   ]
  },
  {
   "cell_type": "code",
   "execution_count": 9,
   "id": "a2ce159b",
   "metadata": {},
   "outputs": [
    {
     "name": "stdout",
     "output_type": "stream",
     "text": [
      "False\n"
     ]
    }
   ],
   "source": [
    "name= \"hello\"\n",
    "res= \"a\" in name\n",
    "print(res)"
   ]
  },
  {
   "cell_type": "code",
   "execution_count": null,
   "id": "75390558",
   "metadata": {},
   "outputs": [],
   "source": [
    "# solution no 36:"
   ]
  },
  {
   "cell_type": "code",
   "execution_count": 10,
   "id": "6c037fee",
   "metadata": {},
   "outputs": [
    {
     "name": "stdout",
     "output_type": "stream",
     "text": [
      "True\n"
     ]
    }
   ],
   "source": [
    "a={'name':'john','age':30}\n",
    "res='age' in a\n",
    "print(res)"
   ]
  },
  {
   "cell_type": "code",
   "execution_count": null,
   "id": "dae45cf3",
   "metadata": {},
   "outputs": [],
   "source": [
    "# solution no 39:"
   ]
  },
  {
   "cell_type": "code",
   "execution_count": 11,
   "id": "9fac0cb1",
   "metadata": {},
   "outputs": [
    {
     "name": "stdout",
     "output_type": "stream",
     "text": [
      "11\n"
     ]
    }
   ],
   "source": [
    "a=5\n",
    "b=3\n",
    "c=2\n",
    "print(a+b*c)"
   ]
  },
  {
   "cell_type": "code",
   "execution_count": null,
   "id": "9e548815",
   "metadata": {},
   "outputs": [],
   "source": [
    "# solution no 40:"
   ]
  },
  {
   "cell_type": "code",
   "execution_count": 12,
   "id": "6364faf8",
   "metadata": {},
   "outputs": [
    {
     "name": "stdout",
     "output_type": "stream",
     "text": [
      "26\n"
     ]
    }
   ],
   "source": [
    "a=10\n",
    "b=3\n",
    "c=2\n",
    "print((a+b)*c)"
   ]
  },
  {
   "cell_type": "code",
   "execution_count": null,
   "id": "304865be",
   "metadata": {},
   "outputs": [],
   "source": [
    "# solution no 41:"
   ]
  },
  {
   "cell_type": "code",
   "execution_count": 13,
   "id": "31530c27",
   "metadata": {},
   "outputs": [
    {
     "name": "stdout",
     "output_type": "stream",
     "text": [
      "11.5\n"
     ]
    }
   ],
   "source": [
    "a=10\n",
    "b=3\n",
    "c=2\n",
    "print(a+b/c)"
   ]
  },
  {
   "cell_type": "code",
   "execution_count": null,
   "id": "26c7fb91",
   "metadata": {},
   "outputs": [],
   "source": [
    "# solution no 42:"
   ]
  },
  {
   "cell_type": "code",
   "execution_count": 14,
   "id": "f368e8d2",
   "metadata": {},
   "outputs": [
    {
     "name": "stdout",
     "output_type": "stream",
     "text": [
      "6\n"
     ]
    }
   ],
   "source": [
    "a=8\n",
    "b=4\n",
    "c=2\n",
    "print(a-b+c)"
   ]
  },
  {
   "cell_type": "code",
   "execution_count": null,
   "id": "ff980980",
   "metadata": {},
   "outputs": [],
   "source": [
    "# solution no 43:"
   ]
  },
  {
   "cell_type": "code",
   "execution_count": 6,
   "id": "316a85a4",
   "metadata": {},
   "outputs": [
    {
     "name": "stdout",
     "output_type": "stream",
     "text": [
      "in between\n"
     ]
    }
   ],
   "source": [
    "if 10 in  range(5,15):\n",
    "    print(\"in between\")\n",
    "else:\n",
    "    print(\"out from the range\")"
   ]
  },
  {
   "cell_type": "code",
   "execution_count": 19,
   "id": "cfd5bab2",
   "metadata": {},
   "outputs": [
    {
     "name": "stdout",
     "output_type": "stream",
     "text": [
      "True\n"
     ]
    }
   ],
   "source": [
    "a=5\n",
    "b=10\n",
    "c=15\n",
    "print(a<=b and b<=c)"
   ]
  },
  {
   "cell_type": "code",
   "execution_count": null,
   "id": "51290fac",
   "metadata": {},
   "outputs": [],
   "source": [
    "# solution no 44:"
   ]
  },
  {
   "cell_type": "code",
   "execution_count": 20,
   "id": "879d0498",
   "metadata": {},
   "outputs": [
    {
     "name": "stdout",
     "output_type": "stream",
     "text": [
      "positive and even\n"
     ]
    }
   ],
   "source": [
    "a=20\n",
    "if a==20:\n",
    "    print(\"positive and even\")"
   ]
  },
  {
   "cell_type": "code",
   "execution_count": 21,
   "id": "252e62fc",
   "metadata": {},
   "outputs": [
    {
     "name": "stdout",
     "output_type": "stream",
     "text": [
      "positive\n",
      "even\n"
     ]
    }
   ],
   "source": [
    "num=2\n",
    "if num>0:\n",
    "    print(\"positive\")\n",
    "elif num<0:                    # doubt\n",
    "    print(\"negative\")\n",
    "if num%2==0:\n",
    "    print(\"even\")\n",
    "else:\n",
    "    print(\"odd\")"
   ]
  },
  {
   "cell_type": "code",
   "execution_count": null,
   "id": "9225196e",
   "metadata": {},
   "outputs": [],
   "source": [
    "# solution no 45:"
   ]
  },
  {
   "cell_type": "code",
   "execution_count": 29,
   "id": "78676028",
   "metadata": {},
   "outputs": [
    {
     "name": "stdout",
     "output_type": "stream",
     "text": [
      "not lowercase vowel\n",
      "its not a vowel\n"
     ]
    }
   ],
   "source": [
    "v='a','e','i','o','u'\n",
    "if \"b\" in v:\n",
    "    print(\"its a vowel\")\n",
    "    print(\"lowercase vowel\")\n",
    "else:\n",
    "    print(\"not lowercase vowel\")\n",
    "    print(\"its not a vowel\")"
   ]
  },
  {
   "cell_type": "code",
   "execution_count": null,
   "id": "3cffcd84",
   "metadata": {},
   "outputs": [],
   "source": [
    "# solution no 47:"
   ]
  },
  {
   "cell_type": "code",
   "execution_count": 30,
   "id": "4e169ea5",
   "metadata": {},
   "outputs": [
    {
     "name": "stdout",
     "output_type": "stream",
     "text": [
      "statement is false\n"
     ]
    }
   ],
   "source": [
    "x=10            # doubt\n",
    "y=5\n",
    "\n",
    "if x==y:\n",
    "    print(\"statement is true\")\n",
    "elif x!=y:\n",
    "    print (\"statement is false\")"
   ]
  },
  {
   "cell_type": "code",
   "execution_count": null,
   "id": "dae5ecbf",
   "metadata": {},
   "outputs": [],
   "source": [
    "# solution no 48:"
   ]
  },
  {
   "cell_type": "code",
   "execution_count": 7,
   "id": "777378be",
   "metadata": {},
   "outputs": [
    {
     "name": "stdout",
     "output_type": "stream",
     "text": [
      "False\n"
     ]
    }
   ],
   "source": [
    "# logical operator:\n",
    "name= True and False\n",
    "print(name)"
   ]
  },
  {
   "cell_type": "code",
   "execution_count": 8,
   "id": "7626ed70",
   "metadata": {},
   "outputs": [
    {
     "name": "stdout",
     "output_type": "stream",
     "text": [
      "True\n"
     ]
    }
   ],
   "source": [
    "name= True and True\n",
    "print(name)"
   ]
  },
  {
   "cell_type": "code",
   "execution_count": 9,
   "id": "f696dde1",
   "metadata": {},
   "outputs": [
    {
     "name": "stdout",
     "output_type": "stream",
     "text": [
      "False\n"
     ]
    }
   ],
   "source": [
    "name= False and False\n",
    "print(name)"
   ]
  },
  {
   "cell_type": "code",
   "execution_count": 10,
   "id": "dff232bb",
   "metadata": {},
   "outputs": [
    {
     "name": "stdout",
     "output_type": "stream",
     "text": [
      "True\n"
     ]
    }
   ],
   "source": [
    "name= True or False\n",
    "print(name)"
   ]
  },
  {
   "cell_type": "code",
   "execution_count": 11,
   "id": "89808abd",
   "metadata": {},
   "outputs": [
    {
     "name": "stdout",
     "output_type": "stream",
     "text": [
      "True\n"
     ]
    }
   ],
   "source": [
    "name= True or True\n",
    "print(name)"
   ]
  },
  {
   "cell_type": "code",
   "execution_count": 12,
   "id": "7ce375f0",
   "metadata": {},
   "outputs": [
    {
     "name": "stdout",
     "output_type": "stream",
     "text": [
      "False\n"
     ]
    }
   ],
   "source": [
    "name= False  or False\n",
    "print(name)"
   ]
  },
  {
   "cell_type": "code",
   "execution_count": null,
   "id": "87d29be9",
   "metadata": {},
   "outputs": [],
   "source": [
    "# arthematic operator:"
   ]
  },
  {
   "cell_type": "code",
   "execution_count": 15,
   "id": "51783e8a",
   "metadata": {},
   "outputs": [
    {
     "name": "stdout",
     "output_type": "stream",
     "text": [
      "8\n"
     ]
    }
   ],
   "source": [
    "a=5\n",
    "b=3\n",
    "print(a+b)"
   ]
  },
  {
   "cell_type": "code",
   "execution_count": 16,
   "id": "b6475d0e",
   "metadata": {},
   "outputs": [
    {
     "name": "stdout",
     "output_type": "stream",
     "text": [
      "6\n"
     ]
    }
   ],
   "source": [
    "a=10\n",
    "b=4\n",
    "print(a-b)"
   ]
  },
  {
   "cell_type": "code",
   "execution_count": 17,
   "id": "fa10b1cf",
   "metadata": {},
   "outputs": [
    {
     "name": "stdout",
     "output_type": "stream",
     "text": [
      "42\n"
     ]
    }
   ],
   "source": [
    "a=6\n",
    "b=7\n",
    "print(a*b)"
   ]
  },
  {
   "cell_type": "code",
   "execution_count": 18,
   "id": "e727f552",
   "metadata": {},
   "outputs": [
    {
     "name": "stdout",
     "output_type": "stream",
     "text": [
      "5.0\n"
     ]
    }
   ],
   "source": [
    "a=15\n",
    "b=3\n",
    "print(a/b)"
   ]
  },
  {
   "cell_type": "code",
   "execution_count": 19,
   "id": "4492209d",
   "metadata": {},
   "outputs": [
    {
     "name": "stdout",
     "output_type": "stream",
     "text": [
      "5\n"
     ]
    }
   ],
   "source": [
    "a=15\n",
    "b=3\n",
    "print(a//b)"
   ]
  },
  {
   "cell_type": "code",
   "execution_count": 20,
   "id": "965c51b5",
   "metadata": {},
   "outputs": [
    {
     "name": "stdout",
     "output_type": "stream",
     "text": [
      "3375\n"
     ]
    }
   ],
   "source": [
    "a=15\n",
    "b=3\n",
    "print(a**b)"
   ]
  },
  {
   "cell_type": "code",
   "execution_count": 21,
   "id": "30a5bd4f",
   "metadata": {},
   "outputs": [
    {
     "name": "stdout",
     "output_type": "stream",
     "text": [
      "0\n"
     ]
    }
   ],
   "source": [
    "a=15\n",
    "b=3\n",
    "print(a%b)"
   ]
  },
  {
   "cell_type": "code",
   "execution_count": 13,
   "id": "6d447144",
   "metadata": {},
   "outputs": [
    {
     "name": "stdout",
     "output_type": "stream",
     "text": [
      "False\n"
     ]
    }
   ],
   "source": [
    "# comparision operator:\n",
    "a = 45\n",
    "b = 56\n",
    "print(a>b)"
   ]
  },
  {
   "cell_type": "code",
   "execution_count": 14,
   "id": "d9097bc0",
   "metadata": {},
   "outputs": [
    {
     "name": "stdout",
     "output_type": "stream",
     "text": [
      "take a shower\n"
     ]
    }
   ],
   "source": [
    "w= \"summer\"\n",
    "if w==\"summer\":\n",
    "    print(\"take a shower\")\n",
    "else:\n",
    "    print(\"don't take a shower\")"
   ]
  },
  {
   "cell_type": "code",
   "execution_count": null,
   "id": "8c32e6d6",
   "metadata": {},
   "outputs": [],
   "source": [
    "# solution no 49:"
   ]
  },
  {
   "cell_type": "code",
   "execution_count": 22,
   "id": "090acf28",
   "metadata": {},
   "outputs": [
    {
     "name": "stdout",
     "output_type": "stream",
     "text": [
      "3\n"
     ]
    }
   ],
   "source": [
    "print(1 + 2)"
   ]
  },
  {
   "cell_type": "code",
   "execution_count": 23,
   "id": "b7a7ddaf",
   "metadata": {},
   "outputs": [
    {
     "name": "stdout",
     "output_type": "stream",
     "text": [
      "GeeksFor\n"
     ]
    }
   ],
   "source": [
    "print(\"Geeks\"+\"For\")"
   ]
  },
  {
   "cell_type": "code",
   "execution_count": 24,
   "id": "2ee5ba15",
   "metadata": {},
   "outputs": [
    {
     "name": "stdout",
     "output_type": "stream",
     "text": [
      "GeeksGeeksGeeksGeeks\n"
     ]
    }
   ],
   "source": [
    "print(\"Geeks\"*4)"
   ]
  },
  {
   "cell_type": "code",
   "execution_count": 25,
   "id": "6075a72c",
   "metadata": {},
   "outputs": [
    {
     "name": "stdout",
     "output_type": "stream",
     "text": [
      "12\n"
     ]
    }
   ],
   "source": [
    "print(3*4)"
   ]
  },
  {
   "cell_type": "code",
   "execution_count": null,
   "id": "4948fab5",
   "metadata": {},
   "outputs": [],
   "source": [
    "# solution no 50:"
   ]
  },
  {
   "cell_type": "code",
   "execution_count": 31,
   "id": "3c6850ba",
   "metadata": {},
   "outputs": [
    {
     "name": "stdout",
     "output_type": "stream",
     "text": [
      "enter the number: 12\n",
      " even and positive 12\n"
     ]
    }
   ],
   "source": [
    "num=int(input(\"enter the number: \"))\n",
    "if num%2==0:\n",
    "    print(\" even and positive\",format(num))\n",
    "else:\n",
    "    print(\"odd\" , format(num)) "
   ]
  }
 ],
 "metadata": {
  "kernelspec": {
   "display_name": "Python 3 (ipykernel)",
   "language": "python",
   "name": "python3"
  },
  "language_info": {
   "codemirror_mode": {
    "name": "ipython",
    "version": 3
   },
   "file_extension": ".py",
   "mimetype": "text/x-python",
   "name": "python",
   "nbconvert_exporter": "python",
   "pygments_lexer": "ipython3",
   "version": "3.11.3"
  }
 },
 "nbformat": 4,
 "nbformat_minor": 5
}
