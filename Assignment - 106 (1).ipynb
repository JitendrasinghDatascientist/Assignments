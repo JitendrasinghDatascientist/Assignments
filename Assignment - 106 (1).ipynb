{
 "cells": [
  {
   "cell_type": "markdown",
   "id": "80975d16",
   "metadata": {},
   "source": [
    "# 01. \n",
    "SQL, or Structured Query Language, was developed by IBM in the 1970s. Donald D. Chamberlin and Raymond F. Boyce are often credited with its invention. They initially created SQL as part of a research project at IBM, aiming to develop a language for managing and querying databases. Their work laid the foundation for what would become one of the most widely used languages for managing relational databases."
   ]
  },
  {
   "cell_type": "markdown",
   "id": "dbe552e9",
   "metadata": {},
   "source": [
    "# 02. \n",
    "SQL first develop in 1970."
   ]
  },
  {
   "cell_type": "markdown",
   "id": "f92edde5",
   "metadata": {},
   "source": [
    "# 03.\n",
    "IBM develop a first version of SQL. "
   ]
  },
  {
   "cell_type": "markdown",
   "id": "8192817d",
   "metadata": {},
   "source": [
    "# 04.\n",
    "\n",
    "The original name of SQL was SEQUEL."
   ]
  },
  {
   "cell_type": "markdown",
   "id": "6932725b",
   "metadata": {},
   "source": [
    "# 05.\n",
    "\n",
    "\n",
    "SQL was influenced by a language called SEQUEL "
   ]
  },
  {
   "cell_type": "markdown",
   "id": "4922497f",
   "metadata": {},
   "source": [
    "# 06. \n",
    "The first commercial implementation of SQL was released in 1979 by Oracle Corporation."
   ]
  },
  {
   "cell_type": "markdown",
   "id": "a03864fc",
   "metadata": {},
   "source": [
    "# 07.\n",
    "\n",
    "SQL was initially created with the purpose of providing a standardized language for managing and querying data in relational database management systems. "
   ]
  },
  {
   "cell_type": "markdown",
   "id": "6e138a2d",
   "metadata": {},
   "source": [
    "# 08.\n",
    "SEQUEL (Structured English QUEry Language) - This was the original name of the language developed by IBM.\n",
    "SQL-86 - The version standardized by ANSI (American National Standards Institute) in 1986.\n",
    "SQL-89 - An updated version standardized by ANSI in 1989.\n",
    "SQL-92 - Another significant update standardized by ANSI in 1992, which introduced many new features and enhancements.\n",
    "SQL:1999 - Also known as SQL3, this version introduced even more features and improvements.\n",
    "SQL:2003, SQL:2006, SQL:2008, SQL:2011, SQL:2016, SQL:2019 - These are subsequent versions that introduced further enhancements and standardizations over time."
   ]
  },
  {
   "cell_type": "markdown",
   "id": "b9a06f59",
   "metadata": {},
   "source": [
    "# 09.\n",
    "1. ANSI- 1986\n",
    "2. ISO - 1987"
   ]
  },
  {
   "cell_type": "markdown",
   "id": "80303550",
   "metadata": {},
   "source": [
    "# 10.\n",
    "1. ANSI\n",
    "2. ISO."
   ]
  },
  {
   "cell_type": "markdown",
   "id": "f5f8ccc5",
   "metadata": {},
   "source": [
    "# 11. \n",
    "1986"
   ]
  },
  {
   "cell_type": "markdown",
   "id": "453cdc05",
   "metadata": {},
   "source": [
    "# 12.\n",
    "Data Definition Language (DDL):\n",
    "1. CREATE\n",
    "2. ALTER\n",
    "3. DROP\n",
    "Data Manipulation Language (DML):\n",
    "1. INSERT\n",
    "2. SELECT\n",
    "3. DELETE\n",
    "4. UPDATE\n",
    "DATA CONTROLING LANGUAGE:\n",
    "1. GRANT\n",
    "2. REVOKE"
   ]
  },
  {
   "cell_type": "markdown",
   "id": "3badf37e",
   "metadata": {},
   "source": [
    "# 13. \n",
    "The primary motivation behind creating SQL was to provide a standardized language for managing and querying data stored in relational database management systems."
   ]
  },
  {
   "cell_type": "markdown",
   "id": "4571ba5d",
   "metadata": {},
   "source": [
    "# 14.\n",
    "1. Standardization efforts by ANSI and ISO.\n",
    "2. Introduction of new features and enhancements.\n",
    "3. Performance optimization.\n",
    "4. Integration with other technologies and programming languages.\n",
    "5. Support for big data and NoSQL databases.\n",
    "6. Security enhancements."
   ]
  },
  {
   "cell_type": "markdown",
   "id": "18353480",
   "metadata": {},
   "source": [
    "# 15. \n",
    "1. Support for referential integrity constraints.\n",
    "2. Enhanced CREATE TABLE statement.\n",
    "3. Addition of the CASE expression.\n",
    "4. Support for correlated subqueries.\n",
    "5. Introduction of the UNION ALL operator.\n",
    "6. Expanded support for data types.\n",
    "7. Support for SQL catalogs and schemas.\n",
    "8. Definition of SQL syntax for embedded SQL.\n",
    "9. Clarification and standardization of SQL syntax.\n",
    "10. Improved transaction control with SAVEPOINT."
   ]
  },
  {
   "cell_type": "markdown",
   "id": "71b07950",
   "metadata": {},
   "source": [
    "# 16. \n",
    "\n",
    "1. Development of initial concepts for SEQUEL, later renamed SQL.\n",
    "2. Contribution to the evolution and standardization of SQL.\n",
    "3. System R project for developing a prototype RDBMS with SQL.\n",
    "4. Release of commercial RDBMS products like IBM DB2 with SQL support.\n",
    "5. Involvement in standardization efforts for SQL by contributing to ANSI and ISO standards."
   ]
  },
  {
   "cell_type": "markdown",
   "id": "c492f7d0",
   "metadata": {},
   "source": [
    "# 17. \n",
    "\n",
    "SQL started gaining popularity outside of academia and research in the late 1970s and early 1980s. As commercial relational database management systems (RDBMS) began to emerge, such as Oracle, IBM DB2, and Microsoft SQL Server, SQL became more widely adopted in various industries for managing and querying data."
   ]
  },
  {
   "cell_type": "markdown",
   "id": "9eed4fce",
   "metadata": {},
   "source": [
    "# 18. \n",
    "1. Declarative nature: Focuses on what data is needed rather than how to retrieve it.\n",
    "2. Set-based operations: Manipulates entire sets of data at once, improving efficiency.\n",
    "3. Standardization: SQL was standardized by organizations like ANSI and ISO for interoperability.\n",
    "4. Unified language: Handles database definition, manipulation, and access control tasks within a single language.\n",
    "5. Optimization: Includes query optimization techniques for improved performance."
   ]
  },
  {
   "cell_type": "markdown",
   "id": "764386a1",
   "metadata": {},
   "source": [
    "# 19.\n",
    "IBM is the first contributer in SQL project in 1970 by Donald D. Chamberlin and Raymond F. Boyce."
   ]
  },
  {
   "cell_type": "code",
   "execution_count": null,
   "id": "7331e148",
   "metadata": {},
   "outputs": [],
   "source": [
    "# 20. \n",
    "1. IBM's System R\n",
    "2. Oracle\n",
    "3. Ingres\n",
    "4. Sybase\n",
    "5. Microsoft SQL Server\n",
    "Informix\n",
    "InterBase"
   ]
  }
 ],
 "metadata": {
  "kernelspec": {
   "display_name": "Python 3 (ipykernel)",
   "language": "python",
   "name": "python3"
  },
  "language_info": {
   "codemirror_mode": {
    "name": "ipython",
    "version": 3
   },
   "file_extension": ".py",
   "mimetype": "text/x-python",
   "name": "python",
   "nbconvert_exporter": "python",
   "pygments_lexer": "ipython3",
   "version": "3.11.3"
  }
 },
 "nbformat": 4,
 "nbformat_minor": 5
}
